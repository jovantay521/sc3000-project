{
 "cells": [
  {
   "attachments": {},
   "cell_type": "markdown",
   "metadata": {},
   "source": [
    "# PROJECT PREREQUISITES"
   ]
  },
  {
   "attachments": {},
   "cell_type": "markdown",
   "metadata": {},
   "source": [
    "## Installing and Importing Dependencies"
   ]
  },
  {
   "cell_type": "code",
   "execution_count": 1,
   "metadata": {},
   "outputs": [
    {
     "name": "stdout",
     "output_type": "stream",
     "text": [
      "Requirement already satisfied: gymnasium in /Library/Frameworks/Python.framework/Versions/3.12/lib/python3.12/site-packages (0.29.1)\n",
      "Requirement already satisfied: numpy>=1.21.0 in /Library/Frameworks/Python.framework/Versions/3.12/lib/python3.12/site-packages (from gymnasium) (1.26.4)\n",
      "Requirement already satisfied: cloudpickle>=1.2.0 in /Library/Frameworks/Python.framework/Versions/3.12/lib/python3.12/site-packages (from gymnasium) (3.0.0)\n",
      "Requirement already satisfied: typing-extensions>=4.3.0 in /Library/Frameworks/Python.framework/Versions/3.12/lib/python3.12/site-packages (from gymnasium) (4.10.0)\n",
      "Requirement already satisfied: farama-notifications>=0.0.1 in /Library/Frameworks/Python.framework/Versions/3.12/lib/python3.12/site-packages (from gymnasium) (0.0.4)\n",
      "Note: you may need to restart the kernel to use updated packages.\n",
      "Requirement already satisfied: matplotlib in /Library/Frameworks/Python.framework/Versions/3.12/lib/python3.12/site-packages (3.8.3)\n",
      "Requirement already satisfied: contourpy>=1.0.1 in /Library/Frameworks/Python.framework/Versions/3.12/lib/python3.12/site-packages (from matplotlib) (1.2.0)\n",
      "Requirement already satisfied: cycler>=0.10 in /Library/Frameworks/Python.framework/Versions/3.12/lib/python3.12/site-packages (from matplotlib) (0.12.1)\n",
      "Requirement already satisfied: fonttools>=4.22.0 in /Library/Frameworks/Python.framework/Versions/3.12/lib/python3.12/site-packages (from matplotlib) (4.50.0)\n",
      "Requirement already satisfied: kiwisolver>=1.3.1 in /Library/Frameworks/Python.framework/Versions/3.12/lib/python3.12/site-packages (from matplotlib) (1.4.5)\n",
      "Requirement already satisfied: numpy<2,>=1.21 in /Library/Frameworks/Python.framework/Versions/3.12/lib/python3.12/site-packages (from matplotlib) (1.26.4)\n",
      "Requirement already satisfied: packaging>=20.0 in /Users/timchang/Library/Python/3.12/lib/python/site-packages (from matplotlib) (23.2)\n",
      "Requirement already satisfied: pillow>=8 in /Library/Frameworks/Python.framework/Versions/3.12/lib/python3.12/site-packages (from matplotlib) (10.2.0)\n",
      "Requirement already satisfied: pyparsing>=2.3.1 in /Library/Frameworks/Python.framework/Versions/3.12/lib/python3.12/site-packages (from matplotlib) (3.1.2)\n",
      "Requirement already satisfied: python-dateutil>=2.7 in /Users/timchang/Library/Python/3.12/lib/python/site-packages (from matplotlib) (2.9.0.post0)\n",
      "Requirement already satisfied: six>=1.5 in /Users/timchang/Library/Python/3.12/lib/python/site-packages (from python-dateutil>=2.7->matplotlib) (1.16.0)\n",
      "Note: you may need to restart the kernel to use updated packages.\n",
      "Requirement already satisfied: pygame in /Library/Frameworks/Python.framework/Versions/3.12/lib/python3.12/site-packages (2.5.2)\n",
      "Note: you may need to restart the kernel to use updated packages.\n",
      "Requirement already satisfied: tqdm in /Library/Frameworks/Python.framework/Versions/3.12/lib/python3.12/site-packages (4.66.2)\n",
      "Note: you may need to restart the kernel to use updated packages.\n",
      "Requirement already satisfied: moviepy in /Library/Frameworks/Python.framework/Versions/3.12/lib/python3.12/site-packages (1.0.3)\n",
      "Requirement already satisfied: decorator<5.0,>=4.0.2 in /Library/Frameworks/Python.framework/Versions/3.12/lib/python3.12/site-packages (from moviepy) (4.4.2)\n",
      "Requirement already satisfied: tqdm<5.0,>=4.11.2 in /Library/Frameworks/Python.framework/Versions/3.12/lib/python3.12/site-packages (from moviepy) (4.66.2)\n",
      "Requirement already satisfied: requests<3.0,>=2.8.1 in /Users/timchang/Library/Python/3.12/lib/python/site-packages (from moviepy) (2.31.0)\n",
      "Requirement already satisfied: proglog<=1.0.0 in /Library/Frameworks/Python.framework/Versions/3.12/lib/python3.12/site-packages (from moviepy) (0.1.10)\n",
      "Requirement already satisfied: numpy>=1.17.3 in /Library/Frameworks/Python.framework/Versions/3.12/lib/python3.12/site-packages (from moviepy) (1.26.4)\n",
      "Requirement already satisfied: imageio<3.0,>=2.5 in /Library/Frameworks/Python.framework/Versions/3.12/lib/python3.12/site-packages (from moviepy) (2.34.0)\n",
      "Requirement already satisfied: imageio-ffmpeg>=0.2.0 in /Library/Frameworks/Python.framework/Versions/3.12/lib/python3.12/site-packages (from moviepy) (0.4.9)\n",
      "Requirement already satisfied: pillow>=8.3.2 in /Library/Frameworks/Python.framework/Versions/3.12/lib/python3.12/site-packages (from imageio<3.0,>=2.5->moviepy) (10.2.0)\n",
      "Requirement already satisfied: setuptools in /Library/Frameworks/Python.framework/Versions/3.12/lib/python3.12/site-packages (from imageio-ffmpeg>=0.2.0->moviepy) (69.2.0)\n",
      "Requirement already satisfied: charset-normalizer<4,>=2 in /Users/timchang/Library/Python/3.12/lib/python/site-packages (from requests<3.0,>=2.8.1->moviepy) (3.3.2)\n",
      "Requirement already satisfied: idna<4,>=2.5 in /Users/timchang/Library/Python/3.12/lib/python/site-packages (from requests<3.0,>=2.8.1->moviepy) (3.6)\n",
      "Requirement already satisfied: urllib3<3,>=1.21.1 in /Users/timchang/Library/Python/3.12/lib/python/site-packages (from requests<3.0,>=2.8.1->moviepy) (2.2.1)\n",
      "Requirement already satisfied: certifi>=2017.4.17 in /Users/timchang/Library/Python/3.12/lib/python/site-packages (from requests<3.0,>=2.8.1->moviepy) (2024.2.2)\n",
      "Note: you may need to restart the kernel to use updated packages.\n"
     ]
    }
   ],
   "source": [
    "%pip install gymnasium \n",
    "%pip install matplotlib\n",
    "%pip install pygame\n",
    "%pip install tqdm\n",
    "%pip install moviepy\n",
    "\n",
    "import numpy as np\n",
    "import gymnasium as gym\n",
    "from gym.wrappers import RecordVideo\n",
    "import time\n",
    "import matplotlib.pyplot as plt\n",
    "from tqdm import tqdm\n",
    "import random\n",
    "import math\n",
    "from IPython.display import Video"
   ]
  },
  {
   "attachments": {},
   "cell_type": "markdown",
   "metadata": {},
   "source": [
    "# PROJECT INFORMATION"
   ]
  },
  {
   "attachments": {},
   "cell_type": "markdown",
   "metadata": {},
   "source": [
    "## The Cart Pole\n",
    "The cart pole  consists of a cart that can move linearly and a rotating pole attached to it via a bearing\n",
    "## The Objective\n",
    "\n",
    "<div>\n",
    "<img src=\"./assets/images/problem_diagram.png\" width=\"500\"/>\n",
    "</div>\n",
    "\n",
    "The control objective is to keep the pole in the verical position by applying horizontal actions to the cart. The set of actions one can perform are:\n",
    "1. Pushing the cart left\n",
    "2. Pushing the cart right\n",
    "\n",
    "The variables which determine what actions to take depend on\n",
    "* Cart Position (-4.8 to 4.8)\n",
    "* Cart Velocity (-∞ to ∞)\n",
    "* Pole angle of rotation (-24 degrees to 24 degrees)\n",
    "* Pole angular velocity (-∞ to ∞)\n",
    "\n",
    "An episode terminates when:\n",
    "1. The Pole angle becomes greater than ± 12 degrees\n",
    "2. Cart position is greater than ± 2.4\n",
    "3. Episode length is greater than 500"
   ]
  },
  {
   "attachments": {},
   "cell_type": "markdown",
   "metadata": {},
   "source": [
    "## Task\n",
    "1. Development of the RL agent. Demostrate the correctness of the implementation by sampling a random state form the cart pole environment, inputting to the agent and outputting a chosen action. Print the values of the state and chosen action in Jupyter notebook. [30 marks] \n",
    "\n",
    "2. Demonstrate the effectiveness of the RL agent. Run for 100 episodes and plot the cumulative reward against all episodes in Juptyer. Print the averagee reward over the 100 episodes. The average reward should be larget than 195. [40 marks] \n",
    "\n",
    "3. Render one episode played by the developed RL agent on Jupyter. (refer to lab assignment for rendering code link) [10 marks] \n",
    "\n",
    "4. Format the Jupter notebook by including step-by-step instruction and explanation, such that the notebook is easy to follow and run. Include text explanation to demonstrate the originality  of your implementation and your understanding of the code. [20 marks]"
   ]
  },
  {
   "attachments": {},
   "cell_type": "markdown",
   "metadata": {},
   "source": [
    "# CONCEPTS"
   ]
  },
  {
   "attachments": {},
   "cell_type": "markdown",
   "metadata": {},
   "source": [
    "## Discretising the statespace"
   ]
  },
  {
   "cell_type": "markdown",
   "metadata": {},
   "source": [
    "The state space for our Cart Pole system is not discrete. The state of *(θ, ω, x, v)* is continuous, which mean that we have an infinite number of action-value functions. Hence, we want to approximate a continuous state-space by a finite discrete state-space.\n",
    "\n",
    "To achieve this, we can divide the state into a number of segments and the assign each continuous state vector to a set of discrete indices. This process produces a Q-matrix.\n",
    "\n",
    "<div>\n",
    "<img src=\"./assets/images/Q-table_with_discretisation.png\" width=\"400\"/>\n",
    "</div>\n",
    "\n",
    "By using the Q-table we can run the algorithm. First, we observe the state S, then, we discretize this state, to obtain discrete indices ($ I_{x},I_{v},I_{\\theta},I_{w} $). Then, we can use these discrete indices to select a row of the Q-table, that represents the action value function values for certain actions. By using this type of discretization and indexing we can run the Q-learning algorithm."
   ]
  },
  {
   "attachments": {},
   "cell_type": "markdown",
   "metadata": {},
   "source": [
    "## Epsilon-Greedy Algorithm"
   ]
  },
  {
   "cell_type": "markdown",
   "metadata": {},
   "source": [
    "Here's the epsilon-greedy algorithm with a more mathematical twist:\n",
    "\n",
    "At each decision step:\n",
    "\n",
    "1. **Exploration vs Exploitation:**\n",
    "   - Generate a random number *u* uniformly distributed between 0 and 1.\n",
    "\n",
    "2. **Exploration (with probability ε):**\n",
    "   - If *u* ≤ ε:\n",
    "      - Select an action *a* randomly from set *A*.\n",
    "\n",
    "3. **Exploitation (with probability 1-ε):**\n",
    "   - If *u* > ε:\n",
    "      - Choose the action *a* with the highest estimated Q-value:\n",
    "        *a = argmax(Q(a)) for all a ∈ A*\n",
    "\n",
    "This translates to selecting an action based on a probability distribution:\n",
    "\n",
    "**Action Selection Probability:**\n",
    "  - P(choosing a) = (1 - ε) if Q(a) = max(Q(b)) for all b ∈ A\n",
    "  - P(choosing a) = ε / |A| otherwise\n"
   ]
  },
  {
   "attachments": {},
   "cell_type": "markdown",
   "metadata": {},
   "source": [
    "## Q-learning Algorithm"
   ]
  },
  {
   "cell_type": "markdown",
   "metadata": {},
   "source": [
    "For every time step of a single episode (until the terminal state is reached):\n",
    "\n",
    "Step 1: Select action A in the state S with the epsilon-greedy algorithm. \n",
    "\n",
    "Step 2: Apply action A to the environment, and observe the reward R and the next state S'.\n",
    "\n",
    "Step 3: Update the action value function: \n",
    "\n",
    "- If the next state S' is not the terminal state   \n",
    "$$ \\begin{align*}         Q(S,A)& \\leftarrow Q(S,A) +\\alpha \\Big(R+\\gamma Q_{\\text{max}}-Q(S,A) \\Big) \\\\Q_{\\text{max}} & =\\text{max}_{a} Q(S',a) \\end{align*} $$\n",
    "\n",
    "\n",
    "- If the next state S' is the terminal state  \n",
    "$$ \\begin{align*}         Q(S,A)& \\leftarrow Q(S,A) +\\alpha \\Big(R-Q(S,A) \\Big) \\\\\\end{align*} $$\n",
    "\n",
    "\n",
    "Step 4: Set S=S’ and start again from Step 1.\n",
    "\n",
    "Once the algorithm is executed for a number of episodes, we compute the action value function Q(S,A). Then, we select the action A in state S simply as\n",
    "   \n",
    "$$\\begin{align*}A(S)=\\text{argmax}_{A}Q(S,A)\\end{align*} $$\n",
    "\n",
    "That is, we select the action A in a particular state that produces the maximal value of the action value function at that state\n"
   ]
  },
  {
   "attachments": {},
   "cell_type": "markdown",
   "metadata": {},
   "source": [
    "# TASK 1: DEVELOPMENT OF RL AGENT"
   ]
  },
  {
   "attachments": {},
   "cell_type": "markdown",
   "metadata": {},
   "source": [
    "In this code snippet, we'll test the functionality of a Reinforcement Learning (RL) agent trained for the CartPole environment. Here's how it works:\n",
    "\n",
    "The code first grabs a random snapshot of the environment (the CartPole's state). This state includes information like the cart's position and velocity, as well as the angle and angular velocity of the pole itself.\n",
    "This random state is then fed as input to the RL agent.\n",
    "The agent, based on its training, should analyze the state and choose an action. This action typically involves pushing the cart left or right to keep the pole balanced.\n",
    "Finally, the chosen action (e.g., 0 for left push, 1 for right push) is printed in a Jupyter notebook cell. This allows us to see what action the agent decided to take for the given state."
   ]
  },
  {
   "attachments": {},
   "cell_type": "markdown",
   "metadata": {},
   "source": [
    "## The CartPole Environment"
   ]
  },
  {
   "attachments": {},
   "cell_type": "markdown",
   "metadata": {},
   "source": [
    "We create the environment instance for the 'CartPole-v1' problem using OpenAI Gym' toolkit in python"
   ]
  },
  {
   "cell_type": "code",
   "execution_count": 2,
   "metadata": {},
   "outputs": [],
   "source": [
    "env = gym.make(\"CartPole-v1\")"
   ]
  },
  {
   "attachments": {},
   "cell_type": "markdown",
   "metadata": {},
   "source": [
    "Printing the action space returns a value of Discrete(2). This is in reference to the two actions that we can take, 0(left) and 1(right). Printing the observation space returns the minimum and maximum values of our states. The 4 values correspond to the cart position, cart velocity, pole angle and pole angular velocity."
   ]
  },
  {
   "cell_type": "code",
   "execution_count": 3,
   "metadata": {},
   "outputs": [
    {
     "name": "stdout",
     "output_type": "stream",
     "text": [
      "Discrete(2)\n",
      "Box([-4.8000002e+00 -3.4028235e+38 -4.1887903e-01 -3.4028235e+38], [4.8000002e+00 3.4028235e+38 4.1887903e-01 3.4028235e+38], (4,), float32)\n"
     ]
    }
   ],
   "source": [
    "print(env.action_space)\n",
    "print(env.observation_space)"
   ]
  },
  {
   "attachments": {},
   "cell_type": "markdown",
   "metadata": {},
   "source": [
    "At the end of each round also known as an episode, the pole will be resetted to a random initial state that is close to [0,0,0,0]. "
   ]
  },
  {
   "cell_type": "code",
   "execution_count": 4,
   "metadata": {},
   "outputs": [
    {
     "name": "stdout",
     "output_type": "stream",
     "text": [
      "(array([ 0.00727425, -0.03417738,  0.00310181,  0.04777852], dtype=float32), {})\n"
     ]
    }
   ],
   "source": [
    "print(env.reset())"
   ]
  },
  {
   "attachments": {},
   "cell_type": "markdown",
   "metadata": {},
   "source": [
    "The function env.step() returns variables about the environment based on the action as the argument. The values we are interested in are next state, reward and terminated. \n",
    "- next state: contains the information of the cart pole's state after performing the given action. This includes the details of cart position, cart velocity, pole angle and pole angular velocity.\n",
    "- reward: the value of reward attained from taking that particular action\n",
    "- terminated: a boolean flag on whether the cartpole has reached the termination conditions"
   ]
  },
  {
   "cell_type": "code",
   "execution_count": 5,
   "metadata": {},
   "outputs": [
    {
     "name": "stdout",
     "output_type": "stream",
     "text": [
      "The next state after performing action is:  [ 0.0065907  -0.22934367  0.00405738  0.34143847]\n",
      "the reward from this action is:  1.0\n",
      "Has this round terminated:  False\n"
     ]
    }
   ],
   "source": [
    "next_state, reward, terminated, truncated, info = env.step(0)\n",
    "print('The next state after performing action is: ', next_state)\n",
    "print('the reward from this action is: ', reward)\n",
    "print('Has this round terminated: ', terminated)"
   ]
  },
  {
   "attachments": {},
   "cell_type": "markdown",
   "metadata": {},
   "source": [
    "We now have sufficient knowledge to test out one episode. This is done via a naive strategy so the actions will be randomised. The cumulative reward after the episode termination will be returned at the end of the round. It is evident that this streategy is not optimal."
   ]
  },
  {
   "cell_type": "code",
   "execution_count": 6,
   "metadata": {},
   "outputs": [
    {
     "name": "stdout",
     "output_type": "stream",
     "text": [
      "Cumulative reward for this round: 11.0\n"
     ]
    }
   ],
   "source": [
    "observation = env.reset()\n",
    "cumulative_reward = 0\n",
    "done = False\n",
    "while not done:\n",
    "    action = random.randint(0, 1)\n",
    "    observation, reward, done, _, _ = env.step(action)\n",
    "    cumulative_reward += reward\n",
    "print(\"Cumulative reward for this round:\", cumulative_reward)"
   ]
  },
  {
   "attachments": {},
   "cell_type": "markdown",
   "metadata": {},
   "source": [
    "Create another instance of the cartpole environment"
   ]
  },
  {
   "cell_type": "code",
   "execution_count": 7,
   "metadata": {},
   "outputs": [],
   "source": [
    "env = gym.make('CartPole-v1')"
   ]
  },
  {
   "attachments": {},
   "cell_type": "markdown",
   "metadata": {},
   "source": [
    "## Discretisation"
   ]
  },
  {
   "attachments": {},
   "cell_type": "markdown",
   "metadata": {},
   "source": [
    "As previously mentioned, the possible statespace of the cartpole is continuous. Hence in order to make them finite, we have to discretise them into intervals. For the boundaries, we used analysed the probabilities of the cartpole landing in out-of-bound areas to decide on the boundary value."
   ]
  },
  {
   "attachments": {},
   "cell_type": "markdown",
   "metadata": {},
   "source": [
    "We first declare the various upper and lower bounds for each of the state variables."
   ]
  },
  {
   "cell_type": "code",
   "execution_count": 21,
   "metadata": {},
   "outputs": [],
   "source": [
    "cart_position_lower_bound = env.observation_space.low[0] \n",
    "cart_veloctiy_lower_bound = -3\n",
    "pole_angle_lower_bound = env.observation_space.low[2] \n",
    "pole_angular_velocity_lower_bound = -math.radians(45)\n",
    "\n",
    "cart_position_upper_bound = env.observation_space.high[0] \n",
    "cart_velocity_upper_bound = 3\n",
    "pole_angle_upper_bound = env.observation_space.high[2] \n",
    "pole_angular_velocity_upper_bound = math.radians(45) \n",
    "\n",
    "lower_bounds = [cart_position_lower_bound, cart_veloctiy_lower_bound, pole_angle_lower_bound, pole_angular_velocity_lower_bound]\n",
    "upper_bounds = [cart_position_upper_bound, cart_velocity_upper_bound, pole_angle_upper_bound, pole_angular_velocity_upper_bound]"
   ]
  },
  {
   "attachments": {},
   "cell_type": "markdown",
   "metadata": {},
   "source": [
    "Next, we declared the number of bins. This numbers were derived based on analysis of the usage of the number of bins for its corresponding state types and the optimal set of values that produced the best results."
   ]
  },
  {
   "cell_type": "code",
   "execution_count": 22,
   "metadata": {},
   "outputs": [],
   "source": [
    "global num_bins\n",
    "\n",
    "cart_position_number_of_bins = 1\n",
    "cart_velocity_number_of_bins = 1\n",
    "pole_angle_number_of_bins = 6\n",
    "pole_angular_velocity_number_of_bins = 12\n",
    "\n",
    "num_bins = (cart_position_number_of_bins, cart_velocity_number_of_bins, pole_angle_number_of_bins, pole_angular_velocity_number_of_bins)"
   ]
  },
  {
   "attachments": {},
   "cell_type": "markdown",
   "metadata": {},
   "source": [
    "We then use the numpy function linspace to return an array of evenly spaced intervals according to our number of bins of each type. We then store this value in a global bin tuple."
   ]
  },
  {
   "cell_type": "code",
   "execution_count": 23,
   "metadata": {},
   "outputs": [],
   "source": [
    "global bins\n",
    "\n",
    "cart_position_bin = np.linspace(cart_position_lower_bound, cart_position_upper_bound, num_bins[0])\n",
    "cart_velocity_bin = np.linspace(cart_veloctiy_lower_bound, cart_velocity_upper_bound, num_bins[1])\n",
    "pole_angle_bin = np.linspace(pole_angle_lower_bound, pole_angle_upper_bound, num_bins[2])\n",
    "pole_angular_velocity_bin = np.linspace(pole_angular_velocity_lower_bound, pole_angular_velocity_upper_bound, num_bins[3])\n",
    "\n",
    "bins = [cart_position_bin, cart_velocity_bin, pole_angle_bin, pole_angular_velocity_bin]"
   ]
  },
  {
   "attachments": {},
   "cell_type": "markdown",
   "metadata": {},
   "source": [
    "The discretise_state() function is used to discretise the state into the various intervals. It uses the numpy digitalise function to return the indices of the bins to which each value in the input array belongs to. The output is a tuple of the discretised values."
   ]
  },
  {
   "cell_type": "code",
   "execution_count": 24,
   "metadata": {},
   "outputs": [],
   "source": [
    "def discretise_state(obs):\n",
    "        discretized = list()\n",
    "        for i in range(len(obs)):\n",
    "            scaling = ((obs[i] + abs(lower_bounds[i])) \n",
    "                       / (upper_bounds[i] - lower_bounds[i]))\n",
    "            new_obs = int(round((num_bins[i] - 1) * scaling))\n",
    "            new_obs = min(num_bins[i] - 1, max(0, new_obs))\n",
    "            discretized.append(new_obs)\n",
    "        return tuple(discretized)"
   ]
  },
  {
   "attachments": {},
   "cell_type": "markdown",
   "metadata": {},
   "source": [
    "## Epsilon"
   ]
  },
  {
   "attachments": {},
   "cell_type": "markdown",
   "metadata": {},
   "source": [
    "The calculate_action() function decides on what is the next action to take based on the max Q(s, a) in the Q_table of the state. This introduces the value of epsilon which is a variable that determines whether the system should explore or exploit. The input to this function is the epsilon value and the current discretised state of the environment. A random number will be chosen and if it is less than the epsilon value, the output will be a random action (exploration). Else, it would choose the best move based on the Q(s, a) table (exploitation). "
   ]
  },
  {
   "cell_type": "code",
   "execution_count": 25,
   "metadata": {},
   "outputs": [],
   "source": [
    "# Initailise Q-value table with all 0\n",
    "Q_table = np.zeros(num_bins + (env.action_space.n,))\n",
    "\n",
    "def calculate_action(state, epsilon):\n",
    "    if (np.random.random() < epsilon):\n",
    "        return env.action_space.sample()\n",
    "    else:\n",
    "        return np.argmax(Q_table[state])"
   ]
  },
  {
   "attachments": {},
   "cell_type": "markdown",
   "metadata": {},
   "source": [
    "As the cycle progresses, we would want the system to guadually move away from exploration to exploitation. In order to do so, we have to decrease the epsilon value as the number of episodes increase. This will carry on until it reaches the minimum epsilon value. "
   ]
  },
  {
   "cell_type": "code",
   "execution_count": 26,
   "metadata": {},
   "outputs": [],
   "source": [
    "# Initialisation of the decay factor\n",
    "decay = 25\n",
    "\n",
    "#Initialise minimum exploration rate for Q-learning. \n",
    "minimum_epsilon = 0.05\n",
    "\n",
    "def calc_epsilon(t):\n",
    "    return max(minimum_epsilon, min(1, 1 - math.log10((t + 1) / decay)))"
   ]
  },
  {
   "attachments": {},
   "cell_type": "markdown",
   "metadata": {},
   "source": [
    "## Learning"
   ]
  },
  {
   "attachments": {},
   "cell_type": "markdown",
   "metadata": {},
   "source": [
    "Similar to epsilon, reducing the learning rate overtime would allow for stable learning. As the model progesses, fine-tuning and avioding overshooting should be the optimal way for learning. To achieve this, we would have to decrease the value of the learning rate as the number of episodes increases. This is done until the minimum learning rate is reached"
   ]
  },
  {
   "cell_type": "code",
   "execution_count": 27,
   "metadata": {},
   "outputs": [],
   "source": [
    "# Initialise minimum learning rate for Q-learning. \n",
    "minimum_learning_rate=0.05\n",
    "\n",
    "def calc_learning_rate(t):\n",
    "    return max(minimum_learning_rate, min(1, 1 - math.log10((t + 1) / decay)))"
   ]
  },
  {
   "attachments": {},
   "cell_type": "markdown",
   "metadata": {},
   "source": [
    "## Updating of Q table\n"
   ]
  },
  {
   "attachments": {},
   "cell_type": "markdown",
   "metadata": {},
   "source": [
    "The function updating_Qtable updates the Q table according to the Q-learning algorithm taught in the lecture. It takes in the discretised state, the action, the reward, the new descretized state and the learning rate. "
   ]
  },
  {
   "cell_type": "code",
   "execution_count": 28,
   "metadata": {},
   "outputs": [],
   "source": [
    "# Initialise discount factor for future rewards\n",
    "discount=0.99\n",
    "\n",
    "def updating_Qtable(state, action, reward, new_state, learning_rate):\n",
    "    Q_table[state][action] += (learning_rate * (reward + discount * np.max(Q_table[new_state]) - Q_table[state][action]))\n",
    "    "
   ]
  },
  {
   "attachments": {},
   "cell_type": "markdown",
   "metadata": {},
   "source": [
    "## Training of model"
   ]
  },
  {
   "attachments": {},
   "cell_type": "markdown",
   "metadata": {},
   "source": [
    "The function train() trains the model by going through the environment and updating the Q-table based on actions chosen via the epsilon-greedy algorithm. Firstly, the current start state is discretized. Learning rates and epsilon values are obtained. While a terminating state is not reached, calculate the next action, take it and record what the new state is. Update the reward table and Q table. Discretise the new state and make it the current state. Continue the loop until a terminal state is reached."
   ]
  },
  {
   "cell_type": "code",
   "execution_count": 29,
   "metadata": {},
   "outputs": [],
   "source": [
    "# Initialise the Number of episodes for the RL agent to learn. \n",
    "num_episodes=500\n",
    "\n",
    "# Initialise reward table\n",
    "R_table = np.zeros(num_episodes)\n",
    "\n",
    "def q_learning():\n",
    "    for i in range(num_episodes):\n",
    "        current_state = discretise_state(env.reset()[0]) \n",
    "        learning_rate_value = calc_learning_rate(i)          \n",
    "        epsilon_value = calc_epsilon(i)                      \n",
    "        terminated = False        \n",
    "      \n",
    "        while not terminated and R_table[i] <= 500:\n",
    "            action = calculate_action(current_state, epsilon_value)\n",
    "            new_state, reward, terminated, _, _ = env.step(action)      \n",
    "            R_table[i] += 1                                  \n",
    "            new_state = discretise_state(new_state)                \n",
    "            updating_Qtable(current_state, action, reward, new_state, learning_rate_value)    \n",
    "            current_state = new_state                        "
   ]
  },
  {
   "attachments": {},
   "cell_type": "markdown",
   "metadata": {},
   "source": [
    "## Simulate Learning Stage"
   ]
  },
  {
   "attachments": {},
   "cell_type": "markdown",
   "metadata": {},
   "source": [
    "Now that we have the function declarations out of the way, we can start the simulation"
   ]
  },
  {
   "attachments": {},
   "cell_type": "markdown",
   "metadata": {},
   "source": [
    "This section is to show the observations and chosen actions as per the problem description."
   ]
  },
  {
   "cell_type": "code",
   "execution_count": 41,
   "metadata": {},
   "outputs": [
    {
     "name": "stdout",
     "output_type": "stream",
     "text": [
      "[-0.00890996 -0.01164608 -0.00746641 -0.04521862]\n",
      "Observation: [-0.00890996 -0.01164608 -0.00746641 -0.04521862]\n",
      "Chosen action: 0\n"
     ]
    }
   ],
   "source": [
    "observation = env.reset()[0]\n",
    "epsilon = minimum_epsilon \n",
    "print(observation)\n",
    "obs = discretise_state(observation)     \n",
    "action = calculate_action(obs, epsilon)    \n",
    "print(\"Observation:\", observation)\n",
    "print(\"Chosen action:\", action)"
   ]
  },
  {
   "cell_type": "code",
   "execution_count": 39,
   "metadata": {},
   "outputs": [],
   "source": [
    "q_learning()"
   ]
  },
  {
   "cell_type": "markdown",
   "metadata": {},
   "source": []
  },
  {
   "cell_type": "code",
   "execution_count": 40,
   "metadata": {},
   "outputs": [
    {
     "data": {
      "image/png": "[encoded data removed]",
      "text/plain": [
       "<Figure size 640x480 with 1 Axes>"
      ]
     },
     "metadata": {},
     "output_type": "display_data"
    }
   ],
   "source": [
    "plt.plot(R_table)\n",
    "plt.title('Cumulative reward for each episode')\n",
    "plt.ylabel('Cumulative reward')\n",
    "plt.xlabel('episode')\n",
    "plt.show()"
   ]
  },
  {
   "cell_type": "code",
   "execution_count": 20,
   "metadata": {},
   "outputs": [
    {
     "data": {
      "image/png": "[encoded data removed]",
      "text/plain": [
       "<Figure size 640x480 with 1 Axes>"
      ]
     },
     "metadata": {},
     "output_type": "display_data"
    }
   ],
   "source": [
    "from collections import Counter\n",
    "\n",
    "plt.bar(Counter(R_table).keys(), Counter(R_table).values())\n",
    "plt.xlabel('Cumulative reward')\n",
    "plt.ylabel('Count')\n",
    "plt.show()"
   ]
  },
  {
   "attachments": {},
   "cell_type": "markdown",
   "metadata": {},
   "source": [
    "# TASK 2: EFFECTIVENESS OF RL AGENT"
   ]
  },
  {
   "attachments": {},
   "cell_type": "markdown",
   "metadata": {},
   "source": [
    "We'll evaluate the effectiveness of our RL agent on the CartPole environment. The agent will be tested for 100 episodes, and for each episode, the total reward it earns (keeping the pole balanced) will be tracked. A plot will be generated to visualize the agent's performance (cumulative reward) across all episodes. Additionally, the average reward over the 100 episodes will be calculated and printed. If the average reward is greater than 195, it suggests the agent has learned a successful strategy for balancing the pole. This test helps assess the agent's ability to perform consistently well in the environment. "
   ]
  },
  {
   "cell_type": "code",
   "execution_count": 43,
   "metadata": {},
   "outputs": [
    {
     "name": "stderr",
     "output_type": "stream",
     "text": [
      "100%|██████████| 100/100 [00:01<00:00, 82.54it/s]\n"
     ]
    }
   ],
   "source": [
    "env = gym.make('CartPole-v1')\n",
    "\n",
    "number_of_episodes = 100\n",
    "cumulative_episodes_reward = []\n",
    "\n",
    "for episode_count in tqdm(range(number_of_episodes)):\n",
    "    current_state, _ = env.reset()\n",
    "    total_rewards = []\n",
    "    terminated = False\n",
    "    \n",
    "    while not terminated and np.sum(total_rewards) < 500:\n",
    "        current_state_index = discretise_state(current_state)\n",
    "        action = calculate_greedy_action(Q_table, current_state_index)\n",
    "        next_state, reward, terminated, _, _ = env.step(action)\n",
    "        total_rewards.append(reward)\n",
    "        current_state = next_state\n",
    "\n",
    "    cumulative_episodes_reward.append(np.sum(total_rewards))\n",
    "\n",
    "env.close()"
   ]
  },
  {
   "attachments": {},
   "cell_type": "markdown",
   "metadata": {},
   "source": [
    "We then plot the cumulative reward against the different episodes. This shows beyond a doubt that our model is effective in balancing the CartPole"
   ]
  },
  {
   "cell_type": "code",
   "execution_count": 44,
   "metadata": {},
   "outputs": [
    {
     "data": {
      "image/png": "[encoded data removed]",
      "text/plain": [
       "<Figure size 640x480 with 1 Axes>"
      ]
     },
     "metadata": {},
     "output_type": "display_data"
    }
   ],
   "source": [
    "\n",
    "plt.plot(cumulative_episodes_reward)\n",
    "plt.title('Cumulative reward for each episode')\n",
    "plt.xlabel('Episode')\n",
    "plt.ylabel('Cumulative reward')\n",
    "plt.show()"
   ]
  },
  {
   "cell_type": "code",
   "execution_count": 47,
   "metadata": {},
   "outputs": [
    {
     "name": "stdout",
     "output_type": "stream",
     "text": [
      "Average cumulative reward: 500.0\n",
      "Is my agent good enough (>195 as per the question requirements?): True\n"
     ]
    }
   ],
   "source": [
    "average_episodes_reward = np.mean(cumulative_episodes_reward)\n",
    "print(f'Average cumulative reward: {average_episodes_reward}')\n",
    "print(f\"Is my agent good enough (>195 as per the question requirements?): {average_episodes_reward > 195}\")"
   ]
  },
  {
   "attachments": {},
   "cell_type": "markdown",
   "metadata": {},
   "source": [
    "# TASK 3: SIMULATE AN EPISODE OF THE RL AGENT"
   ]
  },
  {
   "attachments": {},
   "cell_type": "markdown",
   "metadata": {},
   "source": [
    "This task requires us to visulaise the agent's performance in the CartPole environment for a single episode. The next section shows an example episode played by the RL agent. "
   ]
  },
  {
   "cell_type": "code",
   "execution_count": 48,
   "metadata": {},
   "outputs": [
    {
     "name": "stderr",
     "output_type": "stream",
     "text": [
      "/Library/Frameworks/Python.framework/Versions/3.12/lib/python3.12/site-packages/gym/wrappers/record_video.py:75: UserWarning: \u001b[33mWARN: Overwriting existing videos at /Users/timchang/Documents/sc3000/sc3000-project/sc3000-project/sc3000-project/videos folder (try specifying a different `video_folder` for the `RecordVideo` wrapper if this is not desired)\u001b[0m\n",
      "  logger.warn(\n",
      "/Library/Frameworks/Python.framework/Versions/3.12/lib/python3.12/site-packages/gymnasium/core.py:311: UserWarning: \u001b[33mWARN: env.is_vector_env to get variables from other wrappers is deprecated and will be removed in v1.0, to get this variable you can do `env.unwrapped.is_vector_env` for environment variables or `env.get_wrapper_attr('is_vector_env')` that will search the reminding wrappers.\u001b[0m\n",
      "  logger.warn(\n"
     ]
    },
    {
     "ename": "RuntimeError",
     "evalue": "No ffmpeg exe could be found. Install ffmpeg on your system, or set the IMAGEIO_FFMPEG_EXE environment variable.",
     "output_type": "error",
     "traceback": [
      "\u001b[0;31m---------------------------------------------------------------------------\u001b[0m",
      "\u001b[0;31mRuntimeError\u001b[0m                              Traceback (most recent call last)",
      "Cell \u001b[0;32mIn[48], line 22\u001b[0m\n\u001b[1;32m     19\u001b[0m     env\u001b[39m.\u001b[39mclose_video_recorder()\n\u001b[1;32m     20\u001b[0m     \u001b[39mreturn\u001b[39;00m total_rewards\n\u001b[0;32m---> 22\u001b[0m total_rewards \u001b[39m=\u001b[39m simulate_learned_strategy(Q_table)\n",
      "Cell \u001b[0;32mIn[48], line 6\u001b[0m, in \u001b[0;36msimulate_learned_strategy\u001b[0;34m(q_matrix)\u001b[0m\n\u001b[1;32m      3\u001b[0m env \u001b[39m=\u001b[39m RecordVideo(env, video_folder\u001b[39m=\u001b[39m\u001b[39m\"\u001b[39m\u001b[39m./videos\u001b[39m\u001b[39m\"\u001b[39m, name_prefix\u001b[39m=\u001b[39m\u001b[39m\"\u001b[39m\u001b[39meval\u001b[39m\u001b[39m\"\u001b[39m, episode_trigger\u001b[39m=\u001b[39m\u001b[39mlambda\u001b[39;00m x: \u001b[39mTrue\u001b[39;00m)\n\u001b[1;32m      5\u001b[0m current_state, _ \u001b[39m=\u001b[39m env\u001b[39m.\u001b[39mreset()\n\u001b[0;32m----> 6\u001b[0m env\u001b[39m.\u001b[39;49mstart_video_recorder()\n\u001b[1;32m      7\u001b[0m total_rewards \u001b[39m=\u001b[39m []\n\u001b[1;32m      8\u001b[0m terminated \u001b[39m=\u001b[39m \u001b[39mFalse\u001b[39;00m\n",
      "File \u001b[0;32m/Library/Frameworks/Python.framework/Versions/3.12/lib/python3.12/site-packages/gym/wrappers/record_video.py:111\u001b[0m, in \u001b[0;36mRecordVideo.start_video_recorder\u001b[0;34m(self)\u001b[0m\n\u001b[1;32m    109\u001b[0m \u001b[39mdef\u001b[39;00m \u001b[39mstart_video_recorder\u001b[39m(\u001b[39mself\u001b[39m):\n\u001b[1;32m    110\u001b[0m \u001b[39m    \u001b[39m\u001b[39m\"\"\"Starts video recorder using :class:`video_recorder.VideoRecorder`.\"\"\"\u001b[39;00m\n\u001b[0;32m--> 111\u001b[0m     \u001b[39mself\u001b[39;49m\u001b[39m.\u001b[39;49mclose_video_recorder()\n\u001b[1;32m    113\u001b[0m     video_name \u001b[39m=\u001b[39m \u001b[39mf\u001b[39m\u001b[39m\"\u001b[39m\u001b[39m{\u001b[39;00m\u001b[39mself\u001b[39m\u001b[39m.\u001b[39mname_prefix\u001b[39m}\u001b[39;00m\u001b[39m-step-\u001b[39m\u001b[39m{\u001b[39;00m\u001b[39mself\u001b[39m\u001b[39m.\u001b[39mstep_id\u001b[39m}\u001b[39;00m\u001b[39m\"\u001b[39m\n\u001b[1;32m    114\u001b[0m     \u001b[39mif\u001b[39;00m \u001b[39mself\u001b[39m\u001b[39m.\u001b[39mepisode_trigger:\n",
      "File \u001b[0;32m/Library/Frameworks/Python.framework/Versions/3.12/lib/python3.12/site-packages/gym/wrappers/record_video.py:180\u001b[0m, in \u001b[0;36mRecordVideo.close_video_recorder\u001b[0;34m(self)\u001b[0m\n\u001b[1;32m    178\u001b[0m \u001b[39mif\u001b[39;00m \u001b[39mself\u001b[39m\u001b[39m.\u001b[39mrecording:\n\u001b[1;32m    179\u001b[0m     \u001b[39massert\u001b[39;00m \u001b[39mself\u001b[39m\u001b[39m.\u001b[39mvideo_recorder \u001b[39mis\u001b[39;00m \u001b[39mnot\u001b[39;00m \u001b[39mNone\u001b[39;00m\n\u001b[0;32m--> 180\u001b[0m     \u001b[39mself\u001b[39;49m\u001b[39m.\u001b[39;49mvideo_recorder\u001b[39m.\u001b[39;49mclose()\n\u001b[1;32m    181\u001b[0m \u001b[39mself\u001b[39m\u001b[39m.\u001b[39mrecording \u001b[39m=\u001b[39m \u001b[39mFalse\u001b[39;00m\n\u001b[1;32m    182\u001b[0m \u001b[39mself\u001b[39m\u001b[39m.\u001b[39mrecorded_frames \u001b[39m=\u001b[39m \u001b[39m1\u001b[39m\n",
      "File \u001b[0;32m/Library/Frameworks/Python.framework/Versions/3.12/lib/python3.12/site-packages/gym/wrappers/monitoring/video_recorder.py:150\u001b[0m, in \u001b[0;36mVideoRecorder.close\u001b[0;34m(self)\u001b[0m\n\u001b[1;32m    148\u001b[0m \u001b[39mif\u001b[39;00m \u001b[39mlen\u001b[39m(\u001b[39mself\u001b[39m\u001b[39m.\u001b[39mrecorded_frames) \u001b[39m>\u001b[39m \u001b[39m0\u001b[39m:\n\u001b[1;32m    149\u001b[0m     \u001b[39mtry\u001b[39;00m:\n\u001b[0;32m--> 150\u001b[0m         \u001b[39mfrom\u001b[39;00m \u001b[39mmoviepy\u001b[39;00m\u001b[39m.\u001b[39;00m\u001b[39mvideo\u001b[39;00m\u001b[39m.\u001b[39;00m\u001b[39mio\u001b[39;00m\u001b[39m.\u001b[39;00m\u001b[39mImageSequenceClip\u001b[39;00m \u001b[39mimport\u001b[39;00m ImageSequenceClip\n\u001b[1;32m    151\u001b[0m     \u001b[39mexcept\u001b[39;00m \u001b[39mImportError\u001b[39;00m:\n\u001b[1;32m    152\u001b[0m         \u001b[39mraise\u001b[39;00m error\u001b[39m.\u001b[39mDependencyNotInstalled(\n\u001b[1;32m    153\u001b[0m             \u001b[39m\"\u001b[39m\u001b[39mMoviePy is not installed, run `pip install moviepy`\u001b[39m\u001b[39m\"\u001b[39m\n\u001b[1;32m    154\u001b[0m         )\n",
      "File \u001b[0;32m/Library/Frameworks/Python.framework/Versions/3.12/lib/python3.12/site-packages/moviepy/video/io/ImageSequenceClip.py:6\u001b[0m\n\u001b[1;32m      3\u001b[0m \u001b[39mimport\u001b[39;00m \u001b[39mnumpy\u001b[39;00m \u001b[39mas\u001b[39;00m \u001b[39mnp\u001b[39;00m\n\u001b[1;32m      4\u001b[0m \u001b[39mfrom\u001b[39;00m \u001b[39mimageio\u001b[39;00m \u001b[39mimport\u001b[39;00m imread\n\u001b[0;32m----> 6\u001b[0m \u001b[39mfrom\u001b[39;00m \u001b[39m.\u001b[39;00m\u001b[39m.\u001b[39;00m\u001b[39mVideoClip\u001b[39;00m \u001b[39mimport\u001b[39;00m VideoClip\n\u001b[1;32m      9\u001b[0m \u001b[39mclass\u001b[39;00m \u001b[39mImageSequenceClip\u001b[39;00m(VideoClip):\n\u001b[1;32m     10\u001b[0m \u001b[39m    \u001b[39m\u001b[39m\"\"\"\u001b[39;00m\n\u001b[1;32m     11\u001b[0m \u001b[39m    \u001b[39;00m\n\u001b[1;32m     12\u001b[0m \u001b[39m    A VideoClip made from a series of images.\u001b[39;00m\n\u001b[0;32m   (...)\u001b[0m\n\u001b[1;32m     46\u001b[0m \u001b[39m    \u001b[39;00m\n\u001b[1;32m     47\u001b[0m \u001b[39m    \"\"\"\u001b[39;00m\n",
      "File \u001b[0;32m/Library/Frameworks/Python.framework/Versions/3.12/lib/python3.12/site-packages/moviepy/video/VideoClip.py:18\u001b[0m\n\u001b[1;32m     16\u001b[0m \u001b[39mfrom\u001b[39;00m \u001b[39m.\u001b[39;00m\u001b[39m.\u001b[39;00m\u001b[39mClip\u001b[39;00m \u001b[39mimport\u001b[39;00m Clip\n\u001b[1;32m     17\u001b[0m \u001b[39mfrom\u001b[39;00m \u001b[39m.\u001b[39;00m\u001b[39m.\u001b[39;00m\u001b[39mcompat\u001b[39;00m \u001b[39mimport\u001b[39;00m DEVNULL, string_types\n\u001b[0;32m---> 18\u001b[0m \u001b[39mfrom\u001b[39;00m \u001b[39m.\u001b[39;00m\u001b[39m.\u001b[39;00m\u001b[39mconfig\u001b[39;00m \u001b[39mimport\u001b[39;00m get_setting\n\u001b[1;32m     19\u001b[0m \u001b[39mfrom\u001b[39;00m \u001b[39m.\u001b[39;00m\u001b[39m.\u001b[39;00m\u001b[39mdecorators\u001b[39;00m \u001b[39mimport\u001b[39;00m (add_mask_if_none, apply_to_mask,\n\u001b[1;32m     20\u001b[0m                           convert_masks_to_RGB, convert_to_seconds, outplace,\n\u001b[1;32m     21\u001b[0m                           requires_duration, use_clip_fps_by_default)\n\u001b[1;32m     22\u001b[0m \u001b[39mfrom\u001b[39;00m \u001b[39m.\u001b[39;00m\u001b[39m.\u001b[39;00m\u001b[39mtools\u001b[39;00m \u001b[39mimport\u001b[39;00m (deprecated_version_of, extensions_dict, find_extension,\n\u001b[1;32m     23\u001b[0m                      is_string, subprocess_call)\n",
      "File \u001b[0;32m/Library/Frameworks/Python.framework/Versions/3.12/lib/python3.12/site-packages/moviepy/config.py:36\u001b[0m\n\u001b[1;32m     34\u001b[0m \u001b[39mif\u001b[39;00m FFMPEG_BINARY\u001b[39m==\u001b[39m\u001b[39m'\u001b[39m\u001b[39mffmpeg-imageio\u001b[39m\u001b[39m'\u001b[39m:\n\u001b[1;32m     35\u001b[0m     \u001b[39mfrom\u001b[39;00m \u001b[39mimageio\u001b[39;00m\u001b[39m.\u001b[39;00m\u001b[39mplugins\u001b[39;00m\u001b[39m.\u001b[39;00m\u001b[39mffmpeg\u001b[39;00m \u001b[39mimport\u001b[39;00m get_exe\n\u001b[0;32m---> 36\u001b[0m     FFMPEG_BINARY \u001b[39m=\u001b[39m get_exe()\n\u001b[1;32m     38\u001b[0m \u001b[39melif\u001b[39;00m FFMPEG_BINARY\u001b[39m==\u001b[39m\u001b[39m'\u001b[39m\u001b[39mauto-detect\u001b[39m\u001b[39m'\u001b[39m:\n\u001b[1;32m     40\u001b[0m     \u001b[39mif\u001b[39;00m try_cmd([\u001b[39m'\u001b[39m\u001b[39mffmpeg\u001b[39m\u001b[39m'\u001b[39m])[\u001b[39m0\u001b[39m]:\n",
      "File \u001b[0;32m/Library/Frameworks/Python.framework/Versions/3.12/lib/python3.12/site-packages/imageio/plugins/ffmpeg.py:173\u001b[0m, in \u001b[0;36mget_exe\u001b[0;34m()\u001b[0m\n\u001b[1;32m    170\u001b[0m \u001b[39mdef\u001b[39;00m \u001b[39mget_exe\u001b[39m():  \u001b[39m# pragma: no cover\u001b[39;00m\n\u001b[1;32m    171\u001b[0m \u001b[39m    \u001b[39m\u001b[39m\"\"\"Wrapper for imageio_ffmpeg.get_ffmpeg_exe()\"\"\"\u001b[39;00m\n\u001b[0;32m--> 173\u001b[0m     \u001b[39mreturn\u001b[39;00m imageio_ffmpeg\u001b[39m.\u001b[39;49mget_ffmpeg_exe()\n",
      "File \u001b[0;32m/Library/Frameworks/Python.framework/Versions/3.12/lib/python3.12/site-packages/imageio_ffmpeg/_utils.py:34\u001b[0m, in \u001b[0;36mget_ffmpeg_exe\u001b[0;34m()\u001b[0m\n\u001b[1;32m     31\u001b[0m     \u001b[39mreturn\u001b[39;00m exe\n\u001b[1;32m     33\u001b[0m \u001b[39m# Nothing was found\u001b[39;00m\n\u001b[0;32m---> 34\u001b[0m \u001b[39mraise\u001b[39;00m \u001b[39mRuntimeError\u001b[39;00m(\n\u001b[1;32m     35\u001b[0m     \u001b[39m\"\u001b[39m\u001b[39mNo ffmpeg exe could be found. Install ffmpeg on your system, \u001b[39m\u001b[39m\"\u001b[39m\n\u001b[1;32m     36\u001b[0m     \u001b[39m\"\u001b[39m\u001b[39mor set the IMAGEIO_FFMPEG_EXE environment variable.\u001b[39m\u001b[39m\"\u001b[39m\n\u001b[1;32m     37\u001b[0m )\n",
      "\u001b[0;31mRuntimeError\u001b[0m: No ffmpeg exe could be found. Install ffmpeg on your system, or set the IMAGEIO_FFMPEG_EXE environment variable."
     ]
    }
   ],
   "source": [
    "def simulate_learned_strategy(q_matrix):\n",
    "    env = gym.make(\"CartPole-v1\", render_mode=\"rgb_array\")  # replace with your environment\n",
    "    env = RecordVideo(env, video_folder=\"./videos\", name_prefix=\"eval\", episode_trigger=lambda x: True)\n",
    "    \n",
    "    current_state, _ = env.reset()\n",
    "    env.start_video_recorder()\n",
    "    total_rewards = []\n",
    "    terminated = False\n",
    "    while not terminated:\n",
    "        current_state_index = discretise_state(current_state, bins)\n",
    "        action = calculate_greedy_action(q_matrix, current_state_index)\n",
    "        next_state, reward, terminated, _, _ = env.step(action)\n",
    "        total_rewards.append(reward)\n",
    "        current_state = next_state\n",
    "        time.sleep(0.05)\n",
    "\n",
    "    time.sleep(1)\n",
    "    env.close()\n",
    "    env.close_video_recorder()\n",
    "    return total_rewards\n",
    "\n",
    "total_rewards = simulate_learned_strategy(Q_table)"
   ]
  },
  {
   "cell_type": "code",
   "execution_count": null,
   "metadata": {},
   "outputs": [
    {
     "name": "stdout",
     "output_type": "stream",
     "text": [
      "Episode Reward: 500.0\n"
     ]
    },
    {
     "data": {
      "text/html": [
       "<video src=\"videos/eval-episode-0.mp4\" controls  >\n",
       "      Your browser does not support the <code>video</code> element.\n",
       "    </video>"
      ],
      "text/plain": [
       "<IPython.core.display.Video object>"
      ]
     },
     "execution_count": 109,
     "metadata": {},
     "output_type": "execute_result"
    }
   ],
   "source": [
    "print(f\"Episode Reward: {np.sum(total_rewards)}\")\n",
    "Video(\"videos/eval-episode-0.mp4\")"
   ]
  },
  {
   "attachments": {},
   "cell_type": "markdown",
   "metadata": {},
   "source": [
    "# TASK 4: INSTRUCTION AND EXPLANATION"
   ]
  },
  {
   "attachments": {},
   "cell_type": "markdown",
   "metadata": {},
   "source": [
    "We have included detailed explanation and elaboration on the various functions and concepts discussed in this notebook"
   ]
  },
  {
   "attachments": {},
   "cell_type": "markdown",
   "metadata": {},
   "source": [
    "After hours of studying and ideating on the topic, we decided to go with the approach of implementing a learning and epsilon decay. We felt that analogous to how we humans learn, implementing such a feature made it ever more realistic. \n",
    "\n",
    "Regarding the epsilon decay, the logic goes as such. When thrown into an unknown environment, it is one's first instinct to explore and know as much as you can about it. This means trying new things and going on new paths that have not been ventured before. This is done at the expense of reinforcing what you originally know and we personally felt that one's knowledge base at this point in time is not sufficient enough for that great of a drawback. However, as time progresses and one's knowledge base is growing, this drawback can get increasingly more significant. This is when the epsilon variable is decayed, so as to reduce exploration in favour of exploitation. Now equipped with a larger knowledge base, it is advantegous to make use of it in place of exploring new things. Having heard this concept many times during lectures, we are glad that we finally could implement it in real life. "
   ]
  },
  {
   "attachments": {},
   "cell_type": "markdown",
   "metadata": {},
   "source": [
    "Learning decay is also another concept we came across. The learning rate is decayed in Q-learning for two key reasons. First, a decaying learning rate helps the agent converge to a stable solution by preventing overly large updates to Q-values later in training. This allows for finer adjustments and avoids the agent from oscillating or diverging. Second, it promotes a shift from exploration to exploitation. As the agent learns, smaller updates encourage it to prioritize actions with higher known Q-values, leading to more consistent and optimal performance. In essence, decaying the learning rate helps the agent find the best strategy while maintaining stability. "
   ]
  },
  {
   "attachments": {},
   "cell_type": "markdown",
   "metadata": {},
   "source": [
    "With this two approaches, we succesfully implemented an effective RL agent for the CartPole environment"
   ]
  },
  {
   "cell_type": "markdown",
   "metadata": {},
   "source": []
  }
 ],
 "metadata": {
  "kernelspec": {
   "display_name": "Python 3",
   "language": "python",
   "name": "python3"
  },
  "language_info": {
   "codemirror_mode": {
    "name": "ipython",
    "version": 3
   },
   "file_extension": ".py",
   "mimetype": "text/x-python",
   "name": "python",
   "nbconvert_exporter": "python",
   "pygments_lexer": "ipython3",
   "version": "3.12.1"
  },
  "vscode": {
   "interpreter": {
    "hash": "aee8b7b246df8f9039afb4144a1f6fd8d2ca17a180786b69acc140d282b71a49"
   }
  }
 },
 "nbformat": 4,
 "nbformat_minor": 2
}
