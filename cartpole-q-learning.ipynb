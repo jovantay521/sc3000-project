{
 "cells": [
  {
   "attachments": {},
   "cell_type": "markdown",
   "metadata": {},
   "source": [
    "# PROJECT PREREQUISITES"
   ]
  },
  {
   "attachments": {},
   "cell_type": "markdown",
   "metadata": {},
   "source": [
    "## Installing and Importing Dependencies"
   ]
  },
  {
   "cell_type": "code",
   "execution_count": 1,
   "metadata": {},
   "outputs": [
    {
     "name": "stdout",
     "output_type": "stream",
     "text": [
      "Requirement already satisfied: gymnasium in c:\\users\\jovan\\appdata\\local\\programs\\python\\python311\\lib\\site-packages (0.29.1)\n",
      "Requirement already satisfied: numpy>=1.21.0 in c:\\users\\jovan\\appdata\\local\\programs\\python\\python311\\lib\\site-packages (from gymnasium) (1.25.2)\n",
      "Requirement already satisfied: cloudpickle>=1.2.0 in c:\\users\\jovan\\appdata\\local\\programs\\python\\python311\\lib\\site-packages (from gymnasium) (3.0.0)\n",
      "Requirement already satisfied: typing-extensions>=4.3.0 in c:\\users\\jovan\\appdata\\local\\programs\\python\\python311\\lib\\site-packages (from gymnasium) (4.10.0)\n",
      "Requirement already satisfied: farama-notifications>=0.0.1 in c:\\users\\jovan\\appdata\\local\\programs\\python\\python311\\lib\\site-packages (from gymnasium) (0.0.4)\n",
      "Note: you may need to restart the kernel to use updated packages.\n",
      "Requirement already satisfied: matplotlib in c:\\users\\jovan\\appdata\\local\\programs\\python\\python311\\lib\\site-packages (3.7.3)\n",
      "Requirement already satisfied: contourpy>=1.0.1 in c:\\users\\jovan\\appdata\\local\\programs\\python\\python311\\lib\\site-packages (from matplotlib) (1.1.0)\n",
      "Requirement already satisfied: cycler>=0.10 in c:\\users\\jovan\\appdata\\local\\programs\\python\\python311\\lib\\site-packages (from matplotlib) (0.11.0)\n",
      "Requirement already satisfied: fonttools>=4.22.0 in c:\\users\\jovan\\appdata\\local\\programs\\python\\python311\\lib\\site-packages (from matplotlib) (4.42.1)\n",
      "Requirement already satisfied: kiwisolver>=1.0.1 in c:\\users\\jovan\\appdata\\local\\programs\\python\\python311\\lib\\site-packages (from matplotlib) (1.4.5)\n",
      "Requirement already satisfied: numpy<2,>=1.20 in c:\\users\\jovan\\appdata\\local\\programs\\python\\python311\\lib\\site-packages (from matplotlib) (1.25.2)\n",
      "Requirement already satisfied: packaging>=20.0 in c:\\users\\jovan\\appdata\\roaming\\python\\python311\\site-packages (from matplotlib) (23.0)\n",
      "Requirement already satisfied: pillow>=6.2.0 in c:\\users\\jovan\\appdata\\local\\programs\\python\\python311\\lib\\site-packages (from matplotlib) (10.0.0)\n",
      "Requirement already satisfied: pyparsing>=2.3.1 in c:\\users\\jovan\\appdata\\local\\programs\\python\\python311\\lib\\site-packages (from matplotlib) (3.1.1)\n",
      "Requirement already satisfied: python-dateutil>=2.7 in c:\\users\\jovan\\appdata\\roaming\\python\\python311\\site-packages (from matplotlib) (2.8.2)\n",
      "Requirement already satisfied: six>=1.5 in c:\\users\\jovan\\appdata\\roaming\\python\\python311\\site-packages (from python-dateutil>=2.7->matplotlib) (1.16.0)\n",
      "Note: you may need to restart the kernel to use updated packages.\n",
      "Requirement already satisfied: pygame in c:\\users\\jovan\\appdata\\local\\programs\\python\\python311\\lib\\site-packages (2.5.2)\n",
      "Note: you may need to restart the kernel to use updated packages.\n",
      "Requirement already satisfied: tqdm in c:\\users\\jovan\\appdata\\local\\programs\\python\\python311\\lib\\site-packages (4.66.1)\n",
      "Requirement already satisfied: colorama in c:\\users\\jovan\\appdata\\roaming\\python\\python311\\site-packages (from tqdm) (0.4.6)\n",
      "Note: you may need to restart the kernel to use updated packages.\n",
      "Requirement already satisfied: moviepy in c:\\users\\jovan\\appdata\\local\\programs\\python\\python311\\lib\\site-packages (1.0.3)\n",
      "Requirement already satisfied: decorator<5.0,>=4.0.2 in c:\\users\\jovan\\appdata\\local\\programs\\python\\python311\\lib\\site-packages (from moviepy) (4.4.2)\n",
      "Requirement already satisfied: tqdm<5.0,>=4.11.2 in c:\\users\\jovan\\appdata\\local\\programs\\python\\python311\\lib\\site-packages (from moviepy) (4.66.1)\n",
      "Requirement already satisfied: requests<3.0,>=2.8.1 in c:\\users\\jovan\\appdata\\local\\programs\\python\\python311\\lib\\site-packages (from moviepy) (2.31.0)\n",
      "Requirement already satisfied: proglog<=1.0.0 in c:\\users\\jovan\\appdata\\local\\programs\\python\\python311\\lib\\site-packages (from moviepy) (0.1.10)\n",
      "Requirement already satisfied: numpy>=1.17.3 in c:\\users\\jovan\\appdata\\local\\programs\\python\\python311\\lib\\site-packages (from moviepy) (1.25.2)\n",
      "Requirement already satisfied: imageio<3.0,>=2.5 in c:\\users\\jovan\\appdata\\local\\programs\\python\\python311\\lib\\site-packages (from moviepy) (2.34.0)\n",
      "Requirement already satisfied: imageio-ffmpeg>=0.2.0 in c:\\users\\jovan\\appdata\\local\\programs\\python\\python311\\lib\\site-packages (from moviepy) (0.4.9)\n",
      "Requirement already satisfied: pillow>=8.3.2 in c:\\users\\jovan\\appdata\\local\\programs\\python\\python311\\lib\\site-packages (from imageio<3.0,>=2.5->moviepy) (10.0.0)\n",
      "Requirement already satisfied: setuptools in c:\\users\\jovan\\appdata\\local\\programs\\python\\python311\\lib\\site-packages (from imageio-ffmpeg>=0.2.0->moviepy) (69.2.0)\n",
      "Requirement already satisfied: charset-normalizer<4,>=2 in c:\\users\\jovan\\appdata\\local\\programs\\python\\python311\\lib\\site-packages (from requests<3.0,>=2.8.1->moviepy) (3.1.0)\n",
      "Requirement already satisfied: idna<4,>=2.5 in c:\\users\\jovan\\appdata\\local\\programs\\python\\python311\\lib\\site-packages (from requests<3.0,>=2.8.1->moviepy) (3.4)\n",
      "Requirement already satisfied: urllib3<3,>=1.21.1 in c:\\users\\jovan\\appdata\\local\\programs\\python\\python311\\lib\\site-packages (from requests<3.0,>=2.8.1->moviepy) (2.2.0)\n",
      "Requirement already satisfied: certifi>=2017.4.17 in c:\\users\\jovan\\appdata\\local\\programs\\python\\python311\\lib\\site-packages (from requests<3.0,>=2.8.1->moviepy) (2024.2.2)\n",
      "Requirement already satisfied: colorama in c:\\users\\jovan\\appdata\\roaming\\python\\python311\\site-packages (from tqdm<5.0,>=4.11.2->moviepy) (0.4.6)\n",
      "Note: you may need to restart the kernel to use updated packages.\n"
     ]
    }
   ],
   "source": [
    "%pip install gymnasium \n",
    "%pip install matplotlib\n",
    "%pip install pygame\n",
    "%pip install tqdm\n",
    "%pip install moviepy\n",
    "\n",
    "import numpy as np\n",
    "import gymnasium as gym\n",
    "from gym.wrappers import RecordVideo\n",
    "import matplotlib.pyplot as plt\n",
    "from tqdm import tqdm\n",
    "import time\n",
    "import random\n",
    "import math\n",
    "from IPython.display import Video"
   ]
  },
  {
   "attachments": {},
   "cell_type": "markdown",
   "metadata": {},
   "source": [
    "# PROJECT INFORMATION"
   ]
  },
  {
   "attachments": {},
   "cell_type": "markdown",
   "metadata": {},
   "source": [
    "## The Cart Pole\n",
    "The cart pole  consists of a cart that can move linearly and a rotating pole attached to it via a bearing\n",
    "## The Objective\n",
    "\n",
    "<div>\n",
    "<img src=\"./assets/images/problem_diagram.png\" width=\"500\"/>\n",
    "</div>\n",
    "\n",
    "The control objective is to keep the pole in the verical position by applying horizontal actions to the cart. The set of actions one can perform are:\n",
    "1. Pushing the cart left\n",
    "2. Pushing the cart right\n",
    "\n",
    "The variables which determine what actions to take depend on\n",
    "* Cart Position (-4.8 to 4.8)\n",
    "* Cart Velocity (-∞ to ∞)\n",
    "* Pole angle of rotation (-24 degrees to 24 degrees)\n",
    "* Pole angular velocity (-∞ to ∞)\n",
    "\n",
    "An episode terminates when:\n",
    "1. The Pole angle becomes greater than ± 12 degrees\n",
    "2. Cart position is greater than ± 2.4\n",
    "3. Episode length is greater than 500"
   ]
  },
  {
   "attachments": {},
   "cell_type": "markdown",
   "metadata": {},
   "source": [
    "## Task\n",
    "1. Development of the RL agent. Demostrate the correctness of the implementation by sampling a random state form the cart pole environment, inputting to the agent and outputting a chosen action. Print the values of the state and chosen action in Jupyter notebook. [30 marks] \n",
    "\n",
    "2. Demonstrate the effectiveness of the RL agent. Run for 100 episodes and plot the cumulative reward against all episodes in Juptyer. Print the averagee reward over the 100 episodes. The average reward should be larget than 195. [40 marks] \n",
    "\n",
    "3. Render one episode played by the developed RL agent on Jupyter. (refer to lab assignment for rendering code link) [10 marks] \n",
    "\n",
    "4. Format the Jupter notebook by including step-by-step instruction and explanation, such that the notebook is easy to follow and run. Include text explanation to demonstrate the originality  of your implementation and your understanding of the code. [20 marks]"
   ]
  },
  {
   "attachments": {},
   "cell_type": "markdown",
   "metadata": {},
   "source": [
    "# CONCEPTS"
   ]
  },
  {
   "attachments": {},
   "cell_type": "markdown",
   "metadata": {},
   "source": [
    "## Discretising the statespace"
   ]
  },
  {
   "cell_type": "markdown",
   "metadata": {},
   "source": [
    "The state space for our Cart Pole system is not discrete. The state of *(θ, ω, x, v)* is continuous, which mean that we have an infinite number of action-value functions. Hence, we want to approximate a continuous state-space by a finite discrete state-space.\n",
    "\n",
    "To achieve this, we can divide the state into a number of segments and the assign each continuous state vector to a set of discrete indices. This process produces a Q-matrix.\n",
    "\n",
    "<div>\n",
    "<img src=\"./assets/images/Q-table_with_discretisation.png\" width=\"400\"/>\n",
    "</div>\n",
    "\n",
    "By using the Q-table we can run the algorithm. First, we observe the state S, then, we discretize this state, to obtain discrete indices ($ I_{x},I_{v},I_{\\theta},I_{w} $). Then, we can use these discrete indices to select a row of the Q-table, that represents the action value function values for certain actions. By using this type of discretization and indexing we can run the Q-learning algorithm."
   ]
  },
  {
   "attachments": {},
   "cell_type": "markdown",
   "metadata": {},
   "source": [
    "## Epsilon-Greedy Algorithm"
   ]
  },
  {
   "cell_type": "markdown",
   "metadata": {},
   "source": [
    "Here's the epsilon-greedy algorithm with a more mathematical twist:\n",
    "\n",
    "At each decision step:\n",
    "\n",
    "1. **Exploration vs Exploitation:**\n",
    "   - Generate a random number *u* uniformly distributed between 0 and 1.\n",
    "\n",
    "2. **Exploration (with probability ε):**\n",
    "   - If *u* ≤ ε:\n",
    "      - Select an action *a* randomly from set *A*.\n",
    "\n",
    "3. **Exploitation (with probability 1-ε):**\n",
    "   - If *u* > ε:\n",
    "      - Choose the action *a* with the highest estimated Q-value:\n",
    "        *a = argmax(Q(a)) for all a ∈ A*\n",
    "\n",
    "This translates to selecting an action based on a probability distribution:\n",
    "\n",
    "**Action Selection Probability:**\n",
    "  - P(choosing a) = (1 - ε) if Q(a) = max(Q(b)) for all b ∈ A\n",
    "  - P(choosing a) = ε / |A| otherwise\n"
   ]
  },
  {
   "attachments": {},
   "cell_type": "markdown",
   "metadata": {},
   "source": [
    "## Q-learning Algorithm"
   ]
  },
  {
   "cell_type": "markdown",
   "metadata": {},
   "source": [
    "For every time step of a single episode (until the terminal state is reached):\n",
    "\n",
    "Step 1: Select action A in the state S with the epsilon-greedy algorithm. \n",
    "\n",
    "Step 2: Apply action A to the environment, and observe the reward R and the next state S'.\n",
    "\n",
    "Step 3: Update the action value function: \n",
    "\n",
    "- If the next state S' is not the terminal state   \n",
    "$$ \\begin{align*}         Q(S,A)& \\leftarrow Q(S,A) +\\alpha \\Big(R+\\gamma Q_{\\text{max}}-Q(S,A) \\Big) \\\\Q_{\\text{max}} & =\\text{max}_{a} Q(S',a) \\end{align*} $$\n",
    "\n",
    "\n",
    "- If the next state S' is the terminal state  \n",
    "$$ \\begin{align*}         Q(S,A)& \\leftarrow Q(S,A) +\\alpha \\Big(R-Q(S,A) \\Big) \\\\\\end{align*} $$\n",
    "\n",
    "\n",
    "Step 4: Set S=S’ and start again from Step 1.\n",
    "\n",
    "Once the algorithm is executed for a number of episodes, we compute the action value function Q(S,A). Then, we select the action A in state S simply as\n",
    "   \n",
    "$$\\begin{align*}A(S)=\\text{argmax}_{A}Q(S,A)\\end{align*} $$\n",
    "\n",
    "That is, we select the action A in a particular state that produces the maximal value of the action value function at that state\n"
   ]
  },
  {
   "attachments": {},
   "cell_type": "markdown",
   "metadata": {},
   "source": [
    "# TASK 1: DEVELOPMENT OF RL AGENT"
   ]
  },
  {
   "attachments": {},
   "cell_type": "markdown",
   "metadata": {},
   "source": [
    "In this code snippet, we'll test the functionality of a Reinforcement Learning (RL) agent trained for the CartPole environment. Here's how it works:\n",
    "\n",
    "The code first grabs a random snapshot of the environment (the CartPole's state). This state includes information like the cart's position and velocity, as well as the angle and angular velocity of the pole itself.\n",
    "This random state is then fed as input to the RL agent.\n",
    "The agent, based on its training, should analyze the state and choose an action. This action typically involves pushing the cart left or right to keep the pole balanced.\n",
    "Finally, the chosen action (e.g., 0 for left push, 1 for right push) is printed in a Jupyter notebook cell. This allows us to see what action the agent decided to take for the given state."
   ]
  },
  {
   "attachments": {},
   "cell_type": "markdown",
   "metadata": {},
   "source": [
    "## The CartPole Environment"
   ]
  },
  {
   "attachments": {},
   "cell_type": "markdown",
   "metadata": {},
   "source": [
    "We create the environment instance for the 'CartPole-v1' problem using OpenAI Gym' toolkit in python"
   ]
  },
  {
   "cell_type": "code",
   "execution_count": 2,
   "metadata": {},
   "outputs": [],
   "source": [
    "env = gym.make(\"CartPole-v1\")"
   ]
  },
  {
   "attachments": {},
   "cell_type": "markdown",
   "metadata": {},
   "source": [
    "Printing the action space returns a value of Discrete(2). This is in reference to the two actions that we can take, 0(left) and 1(right). Printing the observation space returns the minimum and maximum values of our states. The 4 values correspond to the cart position, cart velocity, pole angle and pole angular velocity."
   ]
  },
  {
   "cell_type": "code",
   "execution_count": 3,
   "metadata": {},
   "outputs": [
    {
     "name": "stdout",
     "output_type": "stream",
     "text": [
      "Discrete(2)\n",
      "Box([-4.8000002e+00 -3.4028235e+38 -4.1887903e-01 -3.4028235e+38], [4.8000002e+00 3.4028235e+38 4.1887903e-01 3.4028235e+38], (4,), float32)\n"
     ]
    }
   ],
   "source": [
    "print(env.action_space)\n",
    "print(env.observation_space)"
   ]
  },
  {
   "attachments": {},
   "cell_type": "markdown",
   "metadata": {},
   "source": [
    "At the end of each round also known as an episode, the pole will be resetted to a random initial state that is close to [0,0,0,0]. "
   ]
  },
  {
   "cell_type": "code",
   "execution_count": 4,
   "metadata": {},
   "outputs": [
    {
     "name": "stdout",
     "output_type": "stream",
     "text": [
      "(array([ 0.03362957, -0.02720089, -0.02773453,  0.03860779], dtype=float32), {})\n"
     ]
    }
   ],
   "source": [
    "print(env.reset())"
   ]
  },
  {
   "attachments": {},
   "cell_type": "markdown",
   "metadata": {},
   "source": [
    "The function env.step() returns variables about the environment based on the action as the argument. The values we are interested in are next state, reward and terminated. \n",
    "- next state: contains the information of the cart pole's state after performing the given action. This includes the details of cart position, cart velocity, pole angle and pole angular velocity.\n",
    "- reward: the value of reward attained from taking that particular action\n",
    "- terminated: a boolean flag on whether the cartpole has reached the termination conditions"
   ]
  },
  {
   "cell_type": "code",
   "execution_count": 5,
   "metadata": {},
   "outputs": [
    {
     "name": "stdout",
     "output_type": "stream",
     "text": [
      "The next state after performing action is:  [ 0.03308555 -0.22191437 -0.02696238  0.3224128 ]\n",
      "the reward from this action is:  1.0\n",
      "Has this round terminated:  False\n"
     ]
    }
   ],
   "source": [
    "next_state, reward, terminated, truncated, info = env.step(0)\n",
    "print('The next state after performing action is: ', next_state)\n",
    "print('the reward from this action is: ', reward)\n",
    "print('Has this round terminated: ', terminated)"
   ]
  },
  {
   "attachments": {},
   "cell_type": "markdown",
   "metadata": {},
   "source": [
    "We now have sufficient knowledge to test out one episode. This is done via a naive strategy so the actions will be randomised. The cumulative reward after the episode termination will be returned at the end of the round. It is evident that this streategy is not optimal."
   ]
  },
  {
   "cell_type": "code",
   "execution_count": 6,
   "metadata": {},
   "outputs": [
    {
     "name": "stdout",
     "output_type": "stream",
     "text": [
      "Cumulative reward for this round: 14.0\n"
     ]
    }
   ],
   "source": [
    "observation = env.reset()\n",
    "cumulative_reward = 0\n",
    "done = False\n",
    "while not done:\n",
    "    action = random.randint(0, 1)\n",
    "    observation, reward, done, _, _ = env.step(action)\n",
    "    cumulative_reward += reward\n",
    "print(\"Cumulative reward for this round:\", cumulative_reward)"
   ]
  },
  {
   "attachments": {},
   "cell_type": "markdown",
   "metadata": {},
   "source": [
    "Create another instance of the cartpole environment"
   ]
  },
  {
   "cell_type": "code",
   "execution_count": 7,
   "metadata": {},
   "outputs": [],
   "source": [
    "env = gym.make('CartPole-v1')"
   ]
  },
  {
   "attachments": {},
   "cell_type": "markdown",
   "metadata": {},
   "source": [
    "## Discretisation"
   ]
  },
  {
   "attachments": {},
   "cell_type": "markdown",
   "metadata": {},
   "source": [
    "As previously mentioned, the possible statespace of the cartpole is continuous. Hence in order to make them finite, we have to discretise them into intervals. For the boundaries, we used analysed the probabilities of the cartpole landing in out-of-bound areas to decide on the boundary value."
   ]
  },
  {
   "attachments": {},
   "cell_type": "markdown",
   "metadata": {},
   "source": [
    "We first declare the various upper and lower bounds for each of the state variables."
   ]
  },
  {
   "cell_type": "code",
   "execution_count": 8,
   "metadata": {},
   "outputs": [],
   "source": [
    "cart_position_lower_bound = env.observation_space.low[0] \n",
    "cart_veloctiy_lower_bound = -3\n",
    "pole_angle_lower_bound = env.observation_space.low[2] \n",
    "pole_angular_velocity_lower_bound = -math.radians(45)\n",
    "\n",
    "cart_position_upper_bound = env.observation_space.high[0] \n",
    "cart_velocity_upper_bound = 3\n",
    "pole_angle_upper_bound = env.observation_space.high[2] \n",
    "pole_angular_velocity_upper_bound = math.radians(45) \n",
    "\n",
    "lower_bounds = [cart_position_lower_bound, cart_veloctiy_lower_bound, pole_angle_lower_bound, pole_angular_velocity_lower_bound]\n",
    "upper_bounds = [cart_position_upper_bound, cart_velocity_upper_bound, pole_angle_upper_bound, pole_angular_velocity_upper_bound]"
   ]
  },
  {
   "attachments": {},
   "cell_type": "markdown",
   "metadata": {},
   "source": [
    "Next, we declared the number of bins. This numbers were derived based on analysis of the usage of the number of bins for its corresponding state types and the optimal set of values that produced the best results."
   ]
  },
  {
   "cell_type": "code",
   "execution_count": 9,
   "metadata": {},
   "outputs": [],
   "source": [
    "global num_bins\n",
    "\n",
    "cart_position_number_of_bins = 1\n",
    "cart_velocity_number_of_bins = 1\n",
    "pole_angle_number_of_bins = 6\n",
    "pole_angular_velocity_number_of_bins = 12\n",
    "\n",
    "num_bins = (cart_position_number_of_bins, cart_velocity_number_of_bins, pole_angle_number_of_bins, pole_angular_velocity_number_of_bins)"
   ]
  },
  {
   "attachments": {},
   "cell_type": "markdown",
   "metadata": {},
   "source": [
    "We then use the numpy function linspace to return an array of evenly spaced intervals according to our number of bins of each type. We then store this value in a global bin tuple."
   ]
  },
  {
   "cell_type": "code",
   "execution_count": 10,
   "metadata": {},
   "outputs": [],
   "source": [
    "global bins\n",
    "\n",
    "cart_position_bin = np.linspace(cart_position_lower_bound, cart_position_upper_bound, num_bins[0])\n",
    "cart_velocity_bin = np.linspace(cart_veloctiy_lower_bound, cart_velocity_upper_bound, num_bins[1])\n",
    "pole_angle_bin = np.linspace(pole_angle_lower_bound, pole_angle_upper_bound, num_bins[2])\n",
    "pole_angular_velocity_bin = np.linspace(pole_angular_velocity_lower_bound, pole_angular_velocity_upper_bound, num_bins[3])\n",
    "\n",
    "bins = [cart_position_bin, cart_velocity_bin, pole_angle_bin, pole_angular_velocity_bin]"
   ]
  },
  {
   "attachments": {},
   "cell_type": "markdown",
   "metadata": {},
   "source": [
    "The discretise_state() function is used to discretise the state into the various intervals. It uses the numpy digitalise function to return the indices of the bins to which each value in the input array belongs to. The output is a tuple of the discretised values."
   ]
  },
  {
   "cell_type": "code",
   "execution_count": 11,
   "metadata": {},
   "outputs": [],
   "source": [
    "def discretise_state(obs):\n",
    "        res = list()\n",
    "        for state in range(len(obs)):\n",
    "            scaleRef = ((obs[state] + abs(lower_bounds[state])) \n",
    "                       / (upper_bounds[state] - lower_bounds[state]))\n",
    "            discrete_obs = int(round((num_bins[state] - 1) * scaleRef))\n",
    "            discrete_obs = min(max(0, discrete_obs), num_bins[state] - 1)\n",
    "            res.append(discrete_obs)\n",
    "        return tuple(res)"
   ]
  },
  {
   "attachments": {},
   "cell_type": "markdown",
   "metadata": {},
   "source": [
    "## Epsilon"
   ]
  },
  {
   "attachments": {},
   "cell_type": "markdown",
   "metadata": {},
   "source": [
    "The calculate_action() function decides on what is the next action to take based on the max Q(s, a) in the Q_table of the state. This introduces the value of epsilon which is a variable that determines whether the system should explore or exploit. The input to this function is the epsilon value and the current discretised state of the environment. A random number will be chosen and if it is less than the epsilon value, the output will be a random action (exploration). Else, it would choose the best move based on the Q(s, a) table (exploitation). "
   ]
  },
  {
   "cell_type": "code",
   "execution_count": 12,
   "metadata": {},
   "outputs": [],
   "source": [
    "# Initailise Q-value table with all 0\n",
    "Q_table = np.zeros(num_bins + (env.action_space.n,))\n",
    "\n",
    "def calculate_action(state, epsilon_value):\n",
    "    if (np.random.random() < epsilon_value):\n",
    "        return env.action_space.sample()\n",
    "    else:\n",
    "        return np.argmax(Q_table[state])"
   ]
  },
  {
   "attachments": {},
   "cell_type": "markdown",
   "metadata": {},
   "source": [
    "As the cycle progresses, we would want the system to guadually move away from exploration to exploitation. In order to do so, we have to decrease the epsilon value as the number of episodes increase. This will carry on until it reaches the minimum epsilon value. "
   ]
  },
  {
   "cell_type": "code",
   "execution_count": 13,
   "metadata": {},
   "outputs": [],
   "source": [
    "# Initialisation of the decay factor\n",
    "decay = 25\n",
    "\n",
    "#Initialise minimum exploration rate for Q-learning. \n",
    "minimum_epsilon = 0.05\n",
    "\n",
    "def calc_epsilon(t):\n",
    "    return max(min(1, 1 - math.log10((t + 1) / decay)), minimum_epsilon)"
   ]
  },
  {
   "attachments": {},
   "cell_type": "markdown",
   "metadata": {},
   "source": [
    "## Learning"
   ]
  },
  {
   "attachments": {},
   "cell_type": "markdown",
   "metadata": {},
   "source": [
    "Similar to epsilon, reducing the learning rate overtime would allow for stable learning. As the model progesses, fine-tuning and avioding overshooting should be the optimal way for learning. To achieve this, we would have to decrease the value of the learning rate as the number of episodes increases. This is done until the minimum learning rate is reached"
   ]
  },
  {
   "cell_type": "code",
   "execution_count": 14,
   "metadata": {},
   "outputs": [],
   "source": [
    "# Initialise minimum learning rate for Q-learning. \n",
    "minimum_learning_rate=0.05\n",
    "\n",
    "def calc_learning_rate(t):\n",
    "    return max(minimum_learning_rate, min(1, 1 - math.log10((t + 1) / decay)))"
   ]
  },
  {
   "attachments": {},
   "cell_type": "markdown",
   "metadata": {},
   "source": [
    "## Updating of Q table\n"
   ]
  },
  {
   "attachments": {},
   "cell_type": "markdown",
   "metadata": {},
   "source": [
    "The function updating_Qtable updates the Q table according to the Q-learning algorithm taught in the lecture. It takes in the discretised state, the action, the reward, the new descretized state and the learning rate. "
   ]
  },
  {
   "cell_type": "code",
   "execution_count": 15,
   "metadata": {},
   "outputs": [],
   "source": [
    "# Initialise discount factor for future rewards\n",
    "discount_rate=0.99\n",
    "\n",
    "def updating_Qtable(state, action_taken, reward_received, new_state, learning_rate):\n",
    "    Q_table[state][action_taken] += (learning_rate * (reward_received + discount_rate * np.max(Q_table[new_state]) - Q_table[state][action_taken]))\n",
    "    "
   ]
  },
  {
   "attachments": {},
   "cell_type": "markdown",
   "metadata": {},
   "source": [
    "## Training of model"
   ]
  },
  {
   "attachments": {},
   "cell_type": "markdown",
   "metadata": {},
   "source": [
    "The function train() trains the model by going through the environment and updating the Q-table based on actions chosen via the epsilon-greedy algorithm. Firstly, the current start state is discretized. Learning rates and epsilon values are obtained. While a terminating state is not reached, calculate the next action, take it and record what the new state is. Update the reward table and Q table. Discretise the new state and make it the current state. Continue the loop until a terminal state is reached."
   ]
  },
  {
   "cell_type": "code",
   "execution_count": 16,
   "metadata": {},
   "outputs": [],
   "source": [
    "# Initialise the Number of episodes for the RL agent to learn. \n",
    "num_episodes=500\n",
    "\n",
    "# Initialise reward table\n",
    "R_table = np.zeros(num_episodes)\n",
    "\n",
    "def q_learning():\n",
    "    for episode in range(num_episodes):\n",
    "        current_state = discretise_state(env.reset()[0]) \n",
    "        learning_rate_value = calc_learning_rate(episode)          \n",
    "        epsilon_value = calc_epsilon(episode)                      \n",
    "        terminated = False        \n",
    "      \n",
    "        while not terminated and R_table[episode] <= 500:\n",
    "            action = calculate_action(current_state, epsilon_value)\n",
    "            new_state, reward, terminated, _, _ = env.step(action)      \n",
    "            R_table[episode] += 1                                  \n",
    "            new_state = discretise_state(new_state)                \n",
    "            updating_Qtable(current_state, action, reward, new_state, learning_rate_value)    \n",
    "            current_state = new_state                        "
   ]
  },
  {
   "attachments": {},
   "cell_type": "markdown",
   "metadata": {},
   "source": [
    "## Simulate Learning Stage"
   ]
  },
  {
   "attachments": {},
   "cell_type": "markdown",
   "metadata": {},
   "source": [
    "Now that we have the function declarations out of the way, we can start the simulation"
   ]
  },
  {
   "attachments": {},
   "cell_type": "markdown",
   "metadata": {},
   "source": [
    "This section is to show the observations and chosen actions as per the problem description."
   ]
  },
  {
   "cell_type": "code",
   "execution_count": 17,
   "metadata": {},
   "outputs": [
    {
     "name": "stdout",
     "output_type": "stream",
     "text": [
      "[ 0.04510253  0.02775612 -0.04660189  0.00074027]\n",
      "Observation of state: [ 0.04510253  0.02775612 -0.04660189  0.00074027]\n",
      "Chosen action to perform: 0\n"
     ]
    }
   ],
   "source": [
    "observation = env.reset()[0]\n",
    "epsilon = minimum_epsilon \n",
    "print(observation)\n",
    "obs = discretise_state(observation)     \n",
    "action = calculate_action(obs, epsilon)    \n",
    "print(\"Observation of state:\", observation)\n",
    "print(\"Chosen action to perform:\", action)"
   ]
  },
  {
   "cell_type": "code",
   "execution_count": 18,
   "metadata": {},
   "outputs": [],
   "source": [
    "q_learning()"
   ]
  },
  {
   "cell_type": "markdown",
   "metadata": {},
   "source": []
  },
  {
   "cell_type": "code",
   "execution_count": 19,
   "metadata": {},
   "outputs": [
    {
     "data": {
      "image/png": "[encoded data removed]",
      "text/plain": [
       "<Figure size 640x480 with 1 Axes>"
      ]
     },
     "metadata": {},
     "output_type": "display_data"
    }
   ],
   "source": [
    "plt.plot(R_table)\n",
    "plt.title('Cumulative reward based on each episode')\n",
    "plt.ylabel('Cumulative Reward')\n",
    "plt.xlabel('Episode Number')\n",
    "plt.show()"
   ]
  },
  {
   "cell_type": "code",
   "execution_count": 20,
   "metadata": {},
   "outputs": [
    {
     "data": {
      "image/png": "[encoded data removed]",
      "text/plain": [
       "<Figure size 640x480 with 1 Axes>"
      ]
     },
     "metadata": {},
     "output_type": "display_data"
    }
   ],
   "source": [
    "from collections import Counter\n",
    "\n",
    "plt.bar(Counter(R_table).keys(), Counter(R_table).values())\n",
    "plt.xlabel('Cumulative Reward')\n",
    "plt.ylabel('Occurance of Cumulative Reward')\n",
    "plt.show()"
   ]
  },
  {
   "attachments": {},
   "cell_type": "markdown",
   "metadata": {},
   "source": [
    "# TASK 2: EFFECTIVENESS OF RL AGENT"
   ]
  },
  {
   "attachments": {},
   "cell_type": "markdown",
   "metadata": {},
   "source": [
    "We'll evaluate the effectiveness of our RL agent on the CartPole environment. The agent will be tested for 100 episodes, and for each episode, the total reward it earns (keeping the pole balanced) will be tracked. A plot will be generated to visualize the agent's performance (cumulative reward) across all episodes. Additionally, the average reward over the 100 episodes will be calculated and printed. If the average reward is greater than 195, it suggests the agent has learned a successful strategy for balancing the pole. This test helps assess the agent's ability to perform consistently well in the environment. "
   ]
  },
  {
   "cell_type": "code",
   "execution_count": 21,
   "metadata": {},
   "outputs": [
    {
     "name": "stderr",
     "output_type": "stream",
     "text": [
      "100%|██████████| 100/100 [00:04<00:00, 21.74it/s]\n"
     ]
    }
   ],
   "source": [
    "env = gym.make('CartPole-v1')\n",
    "\n",
    "number_of_episodes = 100\n",
    "cumulative_episodes_reward = []\n",
    "\n",
    "for episode_count in tqdm(range(number_of_episodes)):\n",
    "    current_state, _ = env.reset()\n",
    "    total_rewards = []\n",
    "    terminated = False\n",
    "    \n",
    "    while not terminated and np.sum(total_rewards) < 500:\n",
    "        current_state_index = discretise_state(current_state)\n",
    "        action = calculate_action(current_state_index, epsilon)\n",
    "        next_state, reward, terminated, _, _ = env.step(action)\n",
    "        total_rewards.append(reward)\n",
    "        current_state = next_state\n",
    "\n",
    "    cumulative_episodes_reward.append(np.sum(total_rewards))\n",
    "\n",
    "env.close()"
   ]
  },
  {
   "attachments": {},
   "cell_type": "markdown",
   "metadata": {},
   "source": [
    "We then plot the cumulative reward against the different episodes. This shows beyond a doubt that our model is effective in balancing the CartPole"
   ]
  },
  {
   "cell_type": "code",
   "execution_count": 22,
   "metadata": {},
   "outputs": [
    {
     "data": {
      "image/png": "[encoded data removed]",
      "text/plain": [
       "<Figure size 640x480 with 1 Axes>"
      ]
     },
     "metadata": {},
     "output_type": "display_data"
    }
   ],
   "source": [
    "\n",
    "plt.plot(cumulative_episodes_reward)\n",
    "plt.title('Cumulative reward for each episode')\n",
    "plt.xlabel('Episode')\n",
    "plt.ylabel('Cumulative reward')\n",
    "plt.show()"
   ]
  },
  {
   "cell_type": "code",
   "execution_count": 23,
   "metadata": {},
   "outputs": [
    {
     "name": "stdout",
     "output_type": "stream",
     "text": [
      "Average cumulative reward: 491.35\n",
      "Is my agent good enough (>195 as per the question requirements?): True\n"
     ]
    }
   ],
   "source": [
    "average_episodes_reward = np.mean(cumulative_episodes_reward)\n",
    "print(f'Average cumulative reward: {average_episodes_reward}')\n",
    "print(f\"Is my agent good enough (>195 as per the question requirements?): {average_episodes_reward > 195}\")"
   ]
  },
  {
   "attachments": {},
   "cell_type": "markdown",
   "metadata": {},
   "source": [
    "# TASK 3: SIMULATE AN EPISODE OF THE RL AGENT"
   ]
  },
  {
   "attachments": {},
   "cell_type": "markdown",
   "metadata": {},
   "source": [
    "This task requires us to visulaise the agent's performance in the CartPole environment for a single episode. The next section shows an example episode played by the RL agent. \n",
    "\n",
    "Note: ensure FFmpeg is installed on your system \\\n",
    "For windows users(powershell): run winget install ffmpeg"
   ]
  },
  {
   "cell_type": "code",
   "execution_count": 24,
   "metadata": {},
   "outputs": [
    {
     "name": "stderr",
     "output_type": "stream",
     "text": [
      "c:\\Users\\Jovan\\AppData\\Local\\Programs\\Python\\Python311\\Lib\\site-packages\\gym\\wrappers\\record_video.py:75: UserWarning: \u001b[33mWARN: Overwriting existing videos at c:\\Users\\Jovan\\Documents\\repos\\sc3000-project\\videos folder (try specifying a different `video_folder` for the `RecordVideo` wrapper if this is not desired)\u001b[0m\n",
      "  logger.warn(\n",
      "c:\\Users\\Jovan\\AppData\\Local\\Programs\\Python\\Python311\\Lib\\site-packages\\gymnasium\\core.py:311: UserWarning: \u001b[33mWARN: env.is_vector_env to get variables from other wrappers is deprecated and will be removed in v1.0, to get this variable you can do `env.unwrapped.is_vector_env` for environment variables or `env.get_wrapper_attr('is_vector_env')` that will search the reminding wrappers.\u001b[0m\n",
      "  logger.warn(\n"
     ]
    },
    {
     "name": "stdout",
     "output_type": "stream",
     "text": [
      "Moviepy - Building video c:\\Users\\Jovan\\Documents\\repos\\sc3000-project\\videos\\eval-episode-0.mp4.\n",
      "Moviepy - Writing video c:\\Users\\Jovan\\Documents\\repos\\sc3000-project\\videos\\eval-episode-0.mp4\n",
      "\n"
     ]
    },
    {
     "name": "stderr",
     "output_type": "stream",
     "text": [
      "                                                  "
     ]
    },
    {
     "name": "stdout",
     "output_type": "stream",
     "text": [
      "Moviepy - Done !\n",
      "Moviepy - video ready c:\\Users\\Jovan\\Documents\\repos\\sc3000-project\\videos\\eval-episode-0.mp4\n"
     ]
    },
    {
     "name": "stderr",
     "output_type": "stream",
     "text": [
      "\r"
     ]
    },
    {
     "name": "stdout",
     "output_type": "stream",
     "text": [
      "Moviepy - Building video c:\\Users\\Jovan\\Documents\\repos\\sc3000-project\\videos\\eval-episode-0.mp4.\n",
      "Moviepy - Writing video c:\\Users\\Jovan\\Documents\\repos\\sc3000-project\\videos\\eval-episode-0.mp4\n",
      "\n"
     ]
    },
    {
     "name": "stderr",
     "output_type": "stream",
     "text": [
      "                                                               \r"
     ]
    },
    {
     "name": "stdout",
     "output_type": "stream",
     "text": [
      "Moviepy - Done !\n",
      "Moviepy - video ready c:\\Users\\Jovan\\Documents\\repos\\sc3000-project\\videos\\eval-episode-0.mp4\n"
     ]
    }
   ],
   "source": [
    "def simulate_learned_strategy(q_matrix):\n",
    "    env = gym.make(\"CartPole-v1\", render_mode=\"rgb_array\")  # replace with your environment\n",
    "    env = RecordVideo(env, video_folder=\"./videos\", name_prefix=\"eval\", episode_trigger=lambda x: True)\n",
    "    \n",
    "    current_state, _ = env.reset()\n",
    "    env.start_video_recorder()\n",
    "    total_rewards = []\n",
    "    terminated = False\n",
    "    while not terminated:\n",
    "        current_state_index = discretise_state(current_state)\n",
    "        action = calculate_action(current_state_index, epsilon)\n",
    "        next_state, reward, terminated, _, _ = env.step(action)\n",
    "        total_rewards.append(reward)\n",
    "        current_state = next_state\n",
    "        time.sleep(0.05)\n",
    "\n",
    "    time.sleep(1)\n",
    "    env.close()\n",
    "    env.close_video_recorder()\n",
    "    return total_rewards\n",
    "\n",
    "total_rewards = simulate_learned_strategy(Q_table)"
   ]
  },
  {
   "cell_type": "code",
   "execution_count": 25,
   "metadata": {},
   "outputs": [
    {
     "name": "stdout",
     "output_type": "stream",
     "text": [
      "Episode Reward: 560.0\n"
     ]
    },
    {
     "data": {
      "text/html": [
       "<video src=\"videos/eval-episode-0.mp4\" controls  >\n",
       "      Your browser does not support the <code>video</code> element.\n",
       "    </video>"
      ],
      "text/plain": [
       "<IPython.core.display.Video object>"
      ]
     },
     "execution_count": 25,
     "metadata": {},
     "output_type": "execute_result"
    }
   ],
   "source": [
    "print(f\"Episode Reward: {np.sum(total_rewards)}\")\n",
    "Video(\"videos/eval-episode-0.mp4\")"
   ]
  },
  {
   "attachments": {},
   "cell_type": "markdown",
   "metadata": {},
   "source": [
    "# TASK 4: INSTRUCTION AND EXPLANATION"
   ]
  },
  {
   "attachments": {},
   "cell_type": "markdown",
   "metadata": {},
   "source": [
    "We have included detailed explanation and elaboration on the various functions and concepts discussed in this notebook"
   ]
  },
  {
   "attachments": {},
   "cell_type": "markdown",
   "metadata": {},
   "source": [
    "After hours of studying and ideating on the topic, we decided to go with the approach of implementing a learning and epsilon decay. We felt that analogous to how we humans learn, implementing such a feature made it ever more realistic. \n",
    "\n",
    "Regarding the epsilon decay, the logic goes as such. When thrown into an unknown environment, it is one's first instinct to explore and know as much as you can about it. This means trying new things and going on new paths that have not been ventured before. This is done at the expense of reinforcing what you originally know and we personally felt that one's knowledge base at this point in time is not sufficient enough for that great of a drawback. However, as time progresses and one's knowledge base is growing, this drawback can get increasingly more significant. This is when the epsilon variable is decayed, so as to reduce exploration in favour of exploitation. Now equipped with a larger knowledge base, it is advantegous to make use of it in place of exploring new things. Having heard this concept many times during lectures, we are glad that we finally could implement it in real life. "
   ]
  },
  {
   "attachments": {},
   "cell_type": "markdown",
   "metadata": {},
   "source": [
    "Learning decay is also another concept we came across. The learning rate is decayed in Q-learning for two key reasons. First, a decaying learning rate helps the agent converge to a stable solution by preventing overly large updates to Q-values later in training. This allows for finer adjustments and avoids the agent from oscillating or diverging. Second, it promotes a shift from exploration to exploitation. As the agent learns, smaller updates encourage it to prioritize actions with higher known Q-values, leading to more consistent and optimal performance. In essence, decaying the learning rate helps the agent find the best strategy while maintaining stability. "
   ]
  },
  {
   "attachments": {},
   "cell_type": "markdown",
   "metadata": {},
   "source": [
    "With this two approaches, we succesfully implemented an effective RL agent for the CartPole environment"
   ]
  }
 ],
 "metadata": {
  "kernelspec": {
   "display_name": "Python 3",
   "language": "python",
   "name": "python3"
  },
  "language_info": {
   "codemirror_mode": {
    "name": "ipython",
    "version": 3
   },
   "file_extension": ".py",
   "mimetype": "text/x-python",
   "name": "python",
   "nbconvert_exporter": "python",
   "pygments_lexer": "ipython3",
   "version": "3.11.4"
  },
  "vscode": {
   "interpreter": {
    "hash": "aee8b7b246df8f9039afb4144a1f6fd8d2ca17a180786b69acc140d282b71a49"
   }
  }
 },
 "nbformat": 4,
 "nbformat_minor": 2
}
