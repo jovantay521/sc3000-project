{
 "cells": [
  {
   "cell_type": "markdown",
   "metadata": {},
   "source": [
    "# SC3000 Project"
   ]
  },
  {
   "cell_type": "markdown",
   "metadata": {},
   "source": [
    "## Project Information"
   ]
  },
  {
   "attachments": {},
   "cell_type": "markdown",
   "metadata": {},
   "source": [
    "### The Cart Pole Environment\n",
    "The cart pole environment consists of a cart that can move linearly and a rotating pole attached to it via a bearing\n",
    "### The Objective\n",
    "\n",
    "<div>\n",
    "<img src=\"./assets/images/problem_diagram.png\" width=\"500\"/>\n",
    "</div>\n",
    "\n",
    "The control objective is to keep the pole in the verical position by applying horizontal actions to the cart. The set of actions one can perform are:\n",
    "1. Pushing the cart left\n",
    "2. Pushing the cart right\n",
    "\n",
    "The variables which determine what actions to take depend on\n",
    "* Cart Position (-4.8 to 4.8)\n",
    "* Cart Velocity (-∞ to ∞)\n",
    "* Pole angle of rotation (-24 degrees to 24 degrees)\n",
    "* Pole angular velocity (-∞ to ∞)\n",
    "\n",
    "An episode terminates when:\n",
    "1. The Pole angle becomes greater than ± 12 degrees\n",
    "2. Cart position is greater than ± 2.4"
   ]
  },
  {
   "attachments": {},
   "cell_type": "markdown",
   "metadata": {},
   "source": [
    "## Installing and Importing Dependencies"
   ]
  },
  {
   "cell_type": "code",
   "execution_count": 16,
   "metadata": {},
   "outputs": [
    {
     "name": "stdout",
     "output_type": "stream",
     "text": [
      "Requirement already satisfied: gymnasium in c:\\users\\jovan\\appdata\\local\\programs\\python\\python312\\lib\\site-packages (0.29.1)\n",
      "Requirement already satisfied: numpy>=1.21.0 in c:\\users\\jovan\\appdata\\local\\programs\\python\\python312\\lib\\site-packages (from gymnasium) (1.26.4)\n",
      "Requirement already satisfied: cloudpickle>=1.2.0 in c:\\users\\jovan\\appdata\\local\\programs\\python\\python312\\lib\\site-packages (from gymnasium) (3.0.0)\n",
      "Requirement already satisfied: typing-extensions>=4.3.0 in c:\\users\\jovan\\appdata\\local\\programs\\python\\python312\\lib\\site-packages (from gymnasium) (4.10.0)\n",
      "Requirement already satisfied: farama-notifications>=0.0.1 in c:\\users\\jovan\\appdata\\local\\programs\\python\\python312\\lib\\site-packages (from gymnasium) (0.0.4)\n",
      "Note: you may need to restart the kernel to use updated packages.\n",
      "Requirement already satisfied: matplotlib in c:\\users\\jovan\\appdata\\local\\programs\\python\\python312\\lib\\site-packages (3.8.3)\n",
      "Requirement already satisfied: contourpy>=1.0.1 in c:\\users\\jovan\\appdata\\local\\programs\\python\\python312\\lib\\site-packages (from matplotlib) (1.2.0)\n",
      "Requirement already satisfied: cycler>=0.10 in c:\\users\\jovan\\appdata\\local\\programs\\python\\python312\\lib\\site-packages (from matplotlib) (0.12.1)\n",
      "Requirement already satisfied: fonttools>=4.22.0 in c:\\users\\jovan\\appdata\\local\\programs\\python\\python312\\lib\\site-packages (from matplotlib) (4.49.0)\n",
      "Requirement already satisfied: kiwisolver>=1.3.1 in c:\\users\\jovan\\appdata\\local\\programs\\python\\python312\\lib\\site-packages (from matplotlib) (1.4.5)\n",
      "Requirement already satisfied: numpy<2,>=1.21 in c:\\users\\jovan\\appdata\\local\\programs\\python\\python312\\lib\\site-packages (from matplotlib) (1.26.4)\n",
      "Requirement already satisfied: packaging>=20.0 in c:\\users\\jovan\\appdata\\roaming\\python\\python312\\site-packages (from matplotlib) (23.2)\n",
      "Requirement already satisfied: pillow>=8 in c:\\users\\jovan\\appdata\\local\\programs\\python\\python312\\lib\\site-packages (from matplotlib) (10.2.0)\n",
      "Requirement already satisfied: pyparsing>=2.3.1 in c:\\users\\jovan\\appdata\\local\\programs\\python\\python312\\lib\\site-packages (from matplotlib) (3.1.1)\n",
      "Requirement already satisfied: python-dateutil>=2.7 in c:\\users\\jovan\\appdata\\roaming\\python\\python312\\site-packages (from matplotlib) (2.9.0.post0)\n",
      "Requirement already satisfied: six>=1.5 in c:\\users\\jovan\\appdata\\roaming\\python\\python312\\site-packages (from python-dateutil>=2.7->matplotlib) (1.16.0)\n",
      "Note: you may need to restart the kernel to use updated packages.\n",
      "Requirement already satisfied: pygame in c:\\users\\jovan\\appdata\\local\\programs\\python\\python312\\lib\\site-packages (2.5.2)\n",
      "Note: you may need to restart the kernel to use updated packages.\n",
      "Requirement already satisfied: tqdm in c:\\users\\jovan\\appdata\\local\\programs\\python\\python312\\lib\\site-packages (4.66.2)\n",
      "Requirement already satisfied: colorama in c:\\users\\jovan\\appdata\\roaming\\python\\python312\\site-packages (from tqdm) (0.4.6)\n",
      "Note: you may need to restart the kernel to use updated packages.\n",
      "Requirement already satisfied: moviepy in c:\\users\\jovan\\appdata\\local\\programs\\python\\python312\\lib\\site-packages (1.0.3)\n",
      "Requirement already satisfied: decorator<5.0,>=4.0.2 in c:\\users\\jovan\\appdata\\local\\programs\\python\\python312\\lib\\site-packages (from moviepy) (4.4.2)\n",
      "Requirement already satisfied: tqdm<5.0,>=4.11.2 in c:\\users\\jovan\\appdata\\local\\programs\\python\\python312\\lib\\site-packages (from moviepy) (4.66.2)\n",
      "Requirement already satisfied: requests<3.0,>=2.8.1 in c:\\users\\jovan\\appdata\\local\\programs\\python\\python312\\lib\\site-packages (from moviepy) (2.31.0)\n",
      "Requirement already satisfied: proglog<=1.0.0 in c:\\users\\jovan\\appdata\\local\\programs\\python\\python312\\lib\\site-packages (from moviepy) (0.1.10)\n",
      "Requirement already satisfied: numpy>=1.17.3 in c:\\users\\jovan\\appdata\\local\\programs\\python\\python312\\lib\\site-packages (from moviepy) (1.26.4)\n",
      "Requirement already satisfied: imageio<3.0,>=2.5 in c:\\users\\jovan\\appdata\\local\\programs\\python\\python312\\lib\\site-packages (from moviepy) (2.34.0)\n",
      "Requirement already satisfied: imageio-ffmpeg>=0.2.0 in c:\\users\\jovan\\appdata\\local\\programs\\python\\python312\\lib\\site-packages (from moviepy) (0.4.9)\n",
      "Requirement already satisfied: pillow>=8.3.2 in c:\\users\\jovan\\appdata\\local\\programs\\python\\python312\\lib\\site-packages (from imageio<3.0,>=2.5->moviepy) (10.2.0)\n",
      "Requirement already satisfied: setuptools in c:\\users\\jovan\\appdata\\local\\programs\\python\\python312\\lib\\site-packages (from imageio-ffmpeg>=0.2.0->moviepy) (69.1.1)\n",
      "Requirement already satisfied: charset-normalizer<4,>=2 in c:\\users\\jovan\\appdata\\local\\programs\\python\\python312\\lib\\site-packages (from requests<3.0,>=2.8.1->moviepy) (3.3.2)\n",
      "Requirement already satisfied: idna<4,>=2.5 in c:\\users\\jovan\\appdata\\local\\programs\\python\\python312\\lib\\site-packages (from requests<3.0,>=2.8.1->moviepy) (3.6)\n",
      "Requirement already satisfied: urllib3<3,>=1.21.1 in c:\\users\\jovan\\appdata\\local\\programs\\python\\python312\\lib\\site-packages (from requests<3.0,>=2.8.1->moviepy) (2.2.1)\n",
      "Requirement already satisfied: certifi>=2017.4.17 in c:\\users\\jovan\\appdata\\local\\programs\\python\\python312\\lib\\site-packages (from requests<3.0,>=2.8.1->moviepy) (2024.2.2)\n",
      "Requirement already satisfied: colorama in c:\\users\\jovan\\appdata\\roaming\\python\\python312\\site-packages (from tqdm<5.0,>=4.11.2->moviepy) (0.4.6)\n",
      "Note: you may need to restart the kernel to use updated packages.\n"
     ]
    }
   ],
   "source": [
    "%pip install gymnasium \n",
    "%pip install matplotlib\n",
    "%pip install pygame\n",
    "%pip install tqdm\n",
    "%pip install moviepy\n",
    "\n",
    "import numpy as np\n",
    "import gymnasium as gym\n",
    "from gym.wrappers import RecordVideo\n",
    "import time\n",
    "import matplotlib.pyplot as plt\n",
    "from tqdm import tqdm\n",
    "from IPython.display import Video"
   ]
  },
  {
   "cell_type": "markdown",
   "metadata": {},
   "source": [
    "## Task 1: Developing RL Agent"
   ]
  },
  {
   "cell_type": "markdown",
   "metadata": {},
   "source": [
    "### Discretising the statespace"
   ]
  },
  {
   "cell_type": "markdown",
   "metadata": {},
   "source": [
    "The state space for our Cart Pole system is not discrete. The state of *(θ, ω, x, v)* is continuous, which mean that we have an infinite number of action-value functions. Hence, we want to approximate a continuous state-space by a finite discrete state-space.\n",
    "\n",
    "To achieve this, we can divide the state into a number of segments and the assign each continuous state vector to a set of discrete indices. This process produces a Q-matrix.\n",
    "\n",
    "<div>\n",
    "<img src=\"./assets/images/Q-table_with_discretisation.png\" width=\"400\"/>\n",
    "</div>\n",
    "\n",
    "By using the Q-table we can run the algorithm. First, we observe the state S, then, we discretize this state, to obtain discrete indices ($ I_{x},I_{v},I_{\\theta},I_{w} $). Then, we can use these discrete indices to select a row of the Q-table, that represents the action value function values for certain actions. By using this type of discretization and indexing we can run the Q-learning algorithm."
   ]
  },
  {
   "cell_type": "code",
   "execution_count": 3,
   "metadata": {},
   "outputs": [],
   "source": [
    "## parameters for state discretisation\n",
    "env = gym.make('CartPole-v1')\n",
    "upper_bounds = env.observation_space.high\n",
    "lower_bounds = env.observation_space.low\n",
    "\n",
    "cart_position_lower_bound = lower_bounds[0] \n",
    "cart_veloctiy_lower_bound = -3 \n",
    "pole_angle_lower_bound = lower_bounds[2] \n",
    "pole_angular_velocity_lower_bound = -10 \n",
    "\n",
    "cart_position_upper_bound = upper_bounds[0] \n",
    "cart_velocity_upper_bound = 3 \n",
    "pole_angle_upper_bound = upper_bounds[2] \n",
    "pole_angular_velocity_upper_bound = 10 \n",
    "\n",
    "cart_position_number_of_bins = 30\n",
    "cart_velocity_number_of_bins = 30\n",
    "pole_angle_number_of_bins = 30\n",
    "pole_angular_velocity_number_of_bins = 30\n",
    "\n",
    "global cart_position_bin\n",
    "global cart_velocity_bin\n",
    "global pole_angle_bin\n",
    "global pole_angular_velocity_bin\n",
    "\n",
    "# numpy.linspace(start, stop, num=50) \n",
    "# numpy.linspace: Returns num evenly spaced samples, calculated over the interval [start, stop]\n",
    "# https://numpy.org/doc/stable/reference/generated/numpy.linspace.html\n",
    "cart_position_bin = np.linspace(cart_position_lower_bound, cart_position_upper_bound, cart_position_number_of_bins)\n",
    "cart_velocity_bin = np.linspace(cart_veloctiy_lower_bound, cart_velocity_upper_bound, cart_velocity_number_of_bins)\n",
    "pole_angle_bin = np.linspace(pole_angle_lower_bound, pole_angle_upper_bound, pole_angle_number_of_bins)\n",
    "pole_angular_velocity_bin = np.linspace(pole_angular_velocity_lower_bound, pole_angular_velocity_upper_bound, pole_angular_velocity_number_of_bins)\n",
    "\n",
    "env.close()"
   ]
  },
  {
   "cell_type": "markdown",
   "metadata": {},
   "source": [
    "### Epsilon-Greedy Algorithm"
   ]
  },
  {
   "cell_type": "markdown",
   "metadata": {},
   "source": [
    "Here's the epsilon-greedy algorithm with a more mathematical twist:\n",
    "\n",
    "At each decision step:\n",
    "\n",
    "1. **Exploration vs Exploitation:**\n",
    "   - Generate a random number *u* uniformly distributed between 0 and 1.\n",
    "\n",
    "2. **Exploration (with probability ε):**\n",
    "   - If *u* ≤ ε:\n",
    "      - Select an action *a* randomly from set *A*.\n",
    "\n",
    "3. **Exploitation (with probability 1-ε):**\n",
    "   - If *u* > ε:\n",
    "      - Choose the action *a* with the highest estimated Q-value:\n",
    "        *a = argmax(Q(a)) for all a ∈ A*\n",
    "\n",
    "This translates to selecting an action based on a probability distribution:\n",
    "\n",
    "**Action Selection Probability:**\n",
    "  - P(choosing a) = (1 - ε) if Q(a) = max(Q(b)) for all b ∈ A\n",
    "  - P(choosing a) = ε / |A| otherwise\n"
   ]
  },
  {
   "cell_type": "code",
   "execution_count": 4,
   "metadata": {},
   "outputs": [],
   "source": [
    "def calculate_action(episode_count, action_number, epsilon, q_matrix, current_state_index):\n",
    "    # generates a random number from [0.0, 1.0)\n",
    "    # used to determine epsilon greedy approach\n",
    "    # https://aleksandarhaber.com/explanation-and-python-implementation-of-on-policy-sarsa-temporal-difference-learning-reinforcement-learning-tutorial/\n",
    "    random_number = np.random.random()\n",
    "\n",
    "    if episode_count < 500 or random_number < epsilon:\n",
    "        return np.random.choice(action_number)\n",
    "\n",
    "    else:\n",
    "        # numpy.argmax(a, axis=None, out=None, *, keepdims=<no value>)\n",
    "        # Returns the indices of the maximum values along an axis\n",
    "        # e.g. numpy.argmax([0, 1, 2, 5, 3, 4])\n",
    "        # output: 3\n",
    "        return np.argmax(q_matrix[current_state_index])"
   ]
  },
  {
   "cell_type": "markdown",
   "metadata": {},
   "source": [
    "### Q-learning Algorithm"
   ]
  },
  {
   "cell_type": "markdown",
   "metadata": {},
   "source": [
    "For every time step of a single episode (until the terminal state is reached):\n",
    "\n",
    "Step 1: Select action A in the state S with the epsilon-greedy algorithm. \n",
    "\n",
    "Step 2: Apply action A to the environment, and observe the reward R and the next state S'.\n",
    "\n",
    "Step 3: Update the action value function: \n",
    "\n",
    "- If the next state S' is not the terminal state   \n",
    "$$ \\begin{align*}         Q(S,A)& \\leftarrow Q(S,A) +\\alpha \\Big(R+\\gamma Q_{\\text{max}}-Q(S,A) \\Big) \\\\Q_{\\text{max}} & =\\text{max}_{a} Q(S',a) \\end{align*} $$\n",
    "\n",
    "\n",
    "- If the next state S' is the terminal state  \n",
    "$$ \\begin{align*}         Q(S,A)& \\leftarrow Q(S,A) +\\alpha \\Big(R-Q(S,A) \\Big) \\\\\\end{align*} $$\n",
    "\n",
    "\n",
    "Step 4: Set S=S’ and start again from Step 1.\n",
    "\n",
    "Once the algorithm is executed for a number of episodes, we compute the action value function Q(S,A). Then, we select the action A in state S simply as\n",
    "   \n",
    "$$\\begin{align*}A(S)=\\text{argmax}_{A}Q(S,A)\\end{align*} $$\n",
    "\n",
    "That is, we select the action A in a particular state that produces the maximal value of the action value function at that state\n"
   ]
  },
  {
   "cell_type": "code",
   "execution_count": 5,
   "metadata": {},
   "outputs": [],
   "source": [
    "def calculate_state_index(state):\n",
    "    cart_position = state[0]\n",
    "    cart_velocity = state[1]\n",
    "    pole_angle = state[2]\n",
    "    pole_angular_velocity = state[3]\n",
    "\n",
    "    # numpy.digitize(x, bins, right=False)\n",
    "    # Return the indices of the bins to which each value in input array belongs.\n",
    "    # https://numpy.org/doc/stable/reference/generated/numpy.digitize.html\n",
    "    cart_position_index = np.maximum(np.digitize(cart_position, cart_position_bin)-1, 0)\n",
    "    cart_velocity_index = np.maximum(np.digitize(cart_velocity, cart_velocity_bin)-1, 0)\n",
    "    pole_angle_index = np.maximum(np.digitize(pole_angle, pole_angle_bin)-1, 0)\n",
    "    pole_angular_velocity_index = np.maximum(np.digitize(pole_angular_velocity, pole_angular_velocity_bin)-1, 0)\n",
    "\n",
    "    return tuple([cart_position_index, cart_velocity_index, pole_angle_index, pole_angular_velocity_index])"
   ]
  },
  {
   "cell_type": "code",
   "execution_count": 6,
   "metadata": {},
   "outputs": [],
   "source": [
    "def q_learning(current_state, episode_count, env, epsilon, number_of_actions, q_matrix, gamma, alpha):\n",
    "    \n",
    "    episode_reward = []\n",
    "    \n",
    "    terminated = False\n",
    "    while not terminated:\n",
    "        current_state_index = calculate_state_index(current_state)\n",
    "        # print(epsilon) # debug\n",
    "        action = calculate_action(episode_count, number_of_actions, epsilon, q_matrix, current_state_index)\n",
    "        # print(action) # debug\n",
    "        next_state, reward, terminated, _, _ = env.step(action)\n",
    "        episode_reward.append(reward)\n",
    "        next_state = list(next_state)\n",
    "        next_state_index = calculate_state_index(next_state)\n",
    "        q_max = np.max(q_matrix[next_state_index])\n",
    "\n",
    "        # calculate error\n",
    "        if not terminated:\n",
    "            error = reward + gamma * q_max - q_matrix[current_state_index + (action,)]\n",
    "        else:\n",
    "            error = reward - q_matrix[current_state_index + (action,)]\n",
    "\n",
    "        # update Q value\n",
    "        q_matrix[current_state_index + (action,)] += alpha * error\n",
    "        current_state = next_state\n",
    "    \n",
    "    return episode_reward, q_matrix"
   ]
  },
  {
   "cell_type": "markdown",
   "metadata": {},
   "source": [
    "### Simulate Learning Stage"
   ]
  },
  {
   "cell_type": "code",
   "execution_count": 7,
   "metadata": {},
   "outputs": [
    {
     "name": "stderr",
     "output_type": "stream",
     "text": [
      "  0%|          | 0/5000 [00:00<?, ?it/s]"
     ]
    },
    {
     "name": "stderr",
     "output_type": "stream",
     "text": [
      "100%|██████████| 5000/5000 [01:05<00:00, 76.72it/s] \n"
     ]
    }
   ],
   "source": [
    "# constants\n",
    "number_of_episodes = 5000\n",
    "gamma = 1\n",
    "alpha = 0.1\n",
    "epsilon = 0.2\n",
    "\n",
    "env = gym.make('CartPole-v1')\n",
    "state, _ = env.reset()\n",
    "number_of_actions = env.action_space.n\n",
    "q_matrix = np.random.uniform(low=0, high=1, size=(cart_position_number_of_bins, cart_velocity_number_of_bins, pole_angle_number_of_bins, pole_angular_velocity_number_of_bins, number_of_actions))\n",
    "\n",
    "all_episodes_reward = []\n",
    "\n",
    "for episode_count in tqdm(range(number_of_episodes)):\n",
    "    state, _ = env.reset()\n",
    "    state = list(state)\n",
    "    # print(f\"Episode Count: {episode_count}\") # debug\n",
    "    \n",
    "    # at half the total episodes, slowly reduce epsilon values to prioritise exploitation over exploration\n",
    "    if episode_count > number_of_episodes//2: \n",
    "        epsilon = 0.999 * epsilon\n",
    "\n",
    "    episode_reward, q_matrix = q_learning(state, episode_count,  env, epsilon, number_of_actions, q_matrix, gamma, alpha)\n",
    "    all_episodes_reward.append(np.sum(episode_reward))\n",
    "\n",
    "env.close()"
   ]
  },
  {
   "cell_type": "code",
   "execution_count": 8,
   "metadata": {},
   "outputs": [
    {
     "data": {
      "image/png": "[encoded data removed]",
      "text/plain": [
       "<Figure size 640x480 with 1 Axes>"
      ]
     },
     "metadata": {},
     "output_type": "display_data"
    }
   ],
   "source": [
    "plt.hist(all_episodes_reward, bins=50, range=(0,500))\n",
    "plt.xlabel('Cumulative reward')\n",
    "plt.ylabel('Count')\n",
    "plt.show()"
   ]
  },
  {
   "cell_type": "markdown",
   "metadata": {},
   "source": [
    "## Task 2: Effectiveness of RL Agent"
   ]
  },
  {
   "cell_type": "code",
   "execution_count": 9,
   "metadata": {},
   "outputs": [],
   "source": [
    "def calculate_greedy_action(q_matrix, current_state_index):\n",
    "    action = np.argmax(q_matrix[current_state_index])\n",
    "    \n",
    "    return action"
   ]
  },
  {
   "cell_type": "code",
   "execution_count": 10,
   "metadata": {},
   "outputs": [
    {
     "name": "stderr",
     "output_type": "stream",
     "text": [
      "100%|██████████| 100/100 [00:03<00:00, 32.20it/s]\n"
     ]
    }
   ],
   "source": [
    "env = gym.make('CartPole-v1')\n",
    "\n",
    "number_of_episodes = 100\n",
    "cumulative_episodes_reward = []\n",
    "\n",
    "for episode_count in tqdm(range(number_of_episodes)):\n",
    "    current_state, _ = env.reset()\n",
    "    total_rewards = []\n",
    "    terminated = False\n",
    "    while not terminated:\n",
    "        current_state_index = calculate_state_index(current_state)\n",
    "        action = calculate_greedy_action(q_matrix, current_state_index)\n",
    "        next_state, reward, terminated, _, _ = env.step(action)\n",
    "        total_rewards.append(reward)\n",
    "        current_state = next_state\n",
    "\n",
    "    cumulative_episodes_reward.append(np.sum(total_rewards))\n",
    "\n",
    "env.close()"
   ]
  },
  {
   "cell_type": "code",
   "execution_count": 11,
   "metadata": {},
   "outputs": [
    {
     "data": {
      "image/png": "[encoded data removed]",
      "text/plain": [
       "<Figure size 640x480 with 1 Axes>"
      ]
     },
     "metadata": {},
     "output_type": "display_data"
    }
   ],
   "source": [
    "# plt.figure(figsize=(12, 5))\n",
    "# plot the figure and adjust the plot parameters\n",
    "# plt.plot(all_episodes_reward, color='blue', linewidth=1)\n",
    "plt.plot(cumulative_episodes_reward)\n",
    "plt.title('Cumulative reward for each episode')\n",
    "plt.xlabel('Episode')\n",
    "plt.ylabel('Cumulative reward')\n",
    "# plt.yscale('log')\n",
    "# plt.savefig('convergence.png')\n",
    "plt.show()"
   ]
  },
  {
   "cell_type": "code",
   "execution_count": 12,
   "metadata": {},
   "outputs": [
    {
     "name": "stdout",
     "output_type": "stream",
     "text": [
      "Average cumulative reward: 547.62\n",
      "Is my agent good enough: True\n"
     ]
    }
   ],
   "source": [
    "average_episodes_reward = np.mean(cumulative_episodes_reward)\n",
    "print(f'Average cumulative reward: {average_episodes_reward}')\n",
    "print(f\"Is my agent good enough: {average_episodes_reward > 195}\")"
   ]
  },
  {
   "cell_type": "markdown",
   "metadata": {},
   "source": [
    "## Task 3: Simulate one episode of developed RL Agent"
   ]
  },
  {
   "cell_type": "code",
   "execution_count": 22,
   "metadata": {},
   "outputs": [
    {
     "name": "stderr",
     "output_type": "stream",
     "text": [
      "c:\\Users\\Jovan\\AppData\\Local\\Programs\\Python\\Python312\\Lib\\site-packages\\gym\\wrappers\\record_video.py:75: UserWarning: \u001b[33mWARN: Overwriting existing videos at c:\\Users\\Jovan\\Documents\\repos\\sc3000-project\\videos folder (try specifying a different `video_folder` for the `RecordVideo` wrapper if this is not desired)\u001b[0m\n",
      "  logger.warn(\n",
      "c:\\Users\\Jovan\\AppData\\Local\\Programs\\Python\\Python312\\Lib\\site-packages\\gymnasium\\core.py:311: UserWarning: \u001b[33mWARN: env.is_vector_env to get variables from other wrappers is deprecated and will be removed in v1.0, to get this variable you can do `env.unwrapped.is_vector_env` for environment variables or `env.get_wrapper_attr('is_vector_env')` that will search the reminding wrappers.\u001b[0m\n",
      "  logger.warn(\n"
     ]
    },
    {
     "name": "stdout",
     "output_type": "stream",
     "text": [
      "Moviepy - Building video c:\\Users\\Jovan\\Documents\\repos\\sc3000-project\\videos\\eval-episode-0.mp4.\n",
      "Moviepy - Writing video c:\\Users\\Jovan\\Documents\\repos\\sc3000-project\\videos\\eval-episode-0.mp4\n",
      "\n"
     ]
    },
    {
     "name": "stderr",
     "output_type": "stream",
     "text": [
      "                                                  "
     ]
    },
    {
     "name": "stdout",
     "output_type": "stream",
     "text": [
      "Moviepy - Done !\n",
      "Moviepy - video ready c:\\Users\\Jovan\\Documents\\repos\\sc3000-project\\videos\\eval-episode-0.mp4\n"
     ]
    },
    {
     "name": "stderr",
     "output_type": "stream",
     "text": [
      "\r"
     ]
    },
    {
     "name": "stdout",
     "output_type": "stream",
     "text": [
      "Moviepy - Building video c:\\Users\\Jovan\\Documents\\repos\\sc3000-project\\videos\\eval-episode-0.mp4.\n",
      "Moviepy - Writing video c:\\Users\\Jovan\\Documents\\repos\\sc3000-project\\videos\\eval-episode-0.mp4\n",
      "\n"
     ]
    },
    {
     "name": "stderr",
     "output_type": "stream",
     "text": [
      "                                                               \r"
     ]
    },
    {
     "name": "stdout",
     "output_type": "stream",
     "text": [
      "Moviepy - Done !\n",
      "Moviepy - video ready c:\\Users\\Jovan\\Documents\\repos\\sc3000-project\\videos\\eval-episode-0.mp4\n",
      "565.0\n"
     ]
    }
   ],
   "source": [
    "def simulate_learned_strategy(q_matrix):\n",
    "    env = gym.make(\"CartPole-v1\", render_mode=\"rgb_array\")  # replace with your environment\n",
    "    env = RecordVideo(env, video_folder=\"./videos\", name_prefix=\"eval\", episode_trigger=lambda x: True)\n",
    "    \n",
    "    current_state, _ = env.reset()\n",
    "    env.start_video_recorder()\n",
    "    total_rewards = []\n",
    "    terminated = False\n",
    "    while not terminated:\n",
    "        current_state_index = calculate_state_index(current_state)\n",
    "        action = calculate_greedy_action(q_matrix, current_state_index)\n",
    "        next_state, reward, terminated, _, _ = env.step(action)\n",
    "        total_rewards.append(reward)\n",
    "        current_state = next_state\n",
    "        time.sleep(0.05)\n",
    "\n",
    "    time.sleep(1)\n",
    "    env.close()\n",
    "    env.close_video_recorder()\n",
    "    return total_rewards\n",
    "\n",
    "total_rewards = simulate_learned_strategy(q_matrix)"
   ]
  },
  {
   "cell_type": "code",
   "execution_count": 23,
   "metadata": {},
   "outputs": [
    {
     "name": "stdout",
     "output_type": "stream",
     "text": [
      "565.0\n"
     ]
    },
    {
     "data": {
      "text/html": [
       "<video src=\"videos/eval-episode-0.mp4\" controls  >\n",
       "      Your browser does not support the <code>video</code> element.\n",
       "    </video>"
      ],
      "text/plain": [
       "<IPython.core.display.Video object>"
      ]
     },
     "execution_count": 23,
     "metadata": {},
     "output_type": "execute_result"
    }
   ],
   "source": [
    "print(np.sum(total_rewards))\n",
    "Video(\"videos/eval-episode-0.mp4\")"
   ]
  }
 ],
 "metadata": {
  "kernelspec": {
   "display_name": "Python 3",
   "language": "python",
   "name": "python3"
  },
  "language_info": {
   "codemirror_mode": {
    "name": "ipython",
    "version": 3
   },
   "file_extension": ".py",
   "mimetype": "text/x-python",
   "name": "python",
   "nbconvert_exporter": "python",
   "pygments_lexer": "ipython3",
   "version": "3.12.2"
  },
  "vscode": {
   "interpreter": {
    "hash": "aee8b7b246df8f9039afb4144a1f6fd8d2ca17a180786b69acc140d282b71a49"
   }
  }
 },
 "nbformat": 4,
 "nbformat_minor": 2
}
