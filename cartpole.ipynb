{
 "cells": [
  {
   "cell_type": "markdown",
   "metadata": {},
   "source": [
    "Dependencies & Imports"
   ]
  },
  {
   "cell_type": "code",
   "execution_count": 10,
   "metadata": {},
   "outputs": [
    {
     "name": "stdout",
     "output_type": "stream",
     "text": [
      "Note: you may need to restart the kernel to use updated packages.\n",
      "Note: you may need to restart the kernel to use updated packages.\n",
      "Note: you may need to restart the kernel to use updated packages.\n",
      "Note: you may need to restart the kernel to use updated packages.\n",
      "Note: you may need to restart the kernel to use updated packages.\n"
     ]
    }
   ],
   "source": [
    "# dependencies\n",
    "%pip install gym[classic_control] pyvirtualdisplay >NUL 2>&1 \n",
    "%pip install --upgrade setuptools >NUL 2>&1\n",
    "%pip install ez_setup >NUL 2>&1\n",
    "%pip install tensorflow >NUL 2>&1\n",
    "%pip install matplotlib >NUL 2>&1\n",
    "\n",
    "# imports\n",
    "from gym import logger, wrappers\n",
    "import tensorflow as tf\n",
    "import numpy as np\n",
    "import random\n",
    "import matplotlib\n",
    "import math\n",
    "import glob\n",
    "import io\n",
    "import base64\n",
    "from IPython import display\n",
    "\n",
    "# display plots below code\n",
    "%matplotlib inline\n",
    "\n",
    "# Set error logging level to 'ERROR'\n",
    "# logger.set_level(40)"
   ]
  }
 ],
 "metadata": {
  "kernelspec": {
   "display_name": "Python 3",
   "language": "python",
   "name": "python3"
  },
  "language_info": {
   "codemirror_mode": {
    "name": "ipython",
    "version": 3
   },
   "file_extension": ".py",
   "mimetype": "text/x-python",
   "name": "python",
   "nbconvert_exporter": "python",
   "pygments_lexer": "ipython3",
   "version": "3.12.2"
  }
 },
 "nbformat": 4,
 "nbformat_minor": 2
}
